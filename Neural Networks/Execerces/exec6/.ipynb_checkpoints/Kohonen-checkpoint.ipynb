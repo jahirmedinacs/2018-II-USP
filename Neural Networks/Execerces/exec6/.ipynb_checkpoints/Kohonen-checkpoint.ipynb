{
 "cells": [
  {
   "cell_type": "code",
   "execution_count": 1,
   "metadata": {},
   "outputs": [],
   "source": [
    "import pandas as pd\n",
    "import numpy as np\n",
    "import matplotlib.pyplot as plt\n",
    "\n",
    "from sklearn.datasets import load_wine\n",
    "\n",
    "import scipy as sp\n",
    "import seaborn as sns"
   ]
  },
  {
   "cell_type": "code",
   "execution_count": 2,
   "metadata": {},
   "outputs": [],
   "source": [
    "def dist_euclidian(x, y):\n",
    "    return np.sqrt(np.sum(np.power(x - y, 2),axis=1))"
   ]
  },
  {
   "cell_type": "code",
   "execution_count": 3,
   "metadata": {},
   "outputs": [],
   "source": [
    "def arch_generator(input_size=13 , output_size=10):\n",
    "    weigths = np.random.random_sample((output_size * output_size, input_size))\n",
    "    return [input_size,output_size,weigths]"
   ]
  },
  {
   "cell_type": "code",
   "execution_count": 4,
   "metadata": {},
   "outputs": [],
   "source": [
    "def kohonen(architect, data_input, eta=0.1, epochs=100):\n",
    "    \n",
    "    neighborhood = architect[1]//3\n",
    "    \n",
    "    samples_size = data_input.shape[0]\n",
    "    grid_size = architect[1]*architect[1]\n",
    "    \n",
    "    for t in np.arange(epochs):\n",
    "        E = eta /(t+1)\n",
    "        V = int(neighborhood - (neighborhood * ((t + 1) / 100))) + 1\n",
    "        for ii in np.arange(samples_size):\n",
    "            data_ref = data_input[ii,]\n",
    "            BMU = np.argmin(dist_euclidian(data_ref,architect[2]))\n",
    "            Ib = BMU // architect[1]\n",
    "            Jb = BMU % architect[1]\n",
    "            for jj in np.arange(grid_size):\n",
    "                I = jj // architect[1]\n",
    "                J = jj % architect[1]\n",
    "                if (np.abs(Ib - I) + np.abs(Jb - J)) <= V:\n",
    "                    architect[2][jj,] = architect[2][jj,] + E*(data_input[ii,] - architect[2][jj,])\n",
    "    \n",
    "    return architect"
   ]
  },
  {
   "cell_type": "code",
   "execution_count": 5,
   "metadata": {},
   "outputs": [],
   "source": [
    "wine = load_wine()\n",
    "\n",
    "wine_df = pd.DataFrame(wine[\"data\"], columns=wine[\"feature_names\"])\n",
    "wine_df[\"target\"] = wine[\"target\"]"
   ]
  },
  {
   "cell_type": "code",
   "execution_count": 6,
   "metadata": {},
   "outputs": [],
   "source": [
    "wine_data = wine_df[wine_df.columns[:-1]]\n",
    "\n",
    "# Normalization\n",
    "wine_data = (wine_data - wine_data.min()) / (wine_data.max() - wine_data.min())\n",
    "\n",
    "target = wine_df.target"
   ]
  },
  {
   "cell_type": "code",
   "execution_count": 7,
   "metadata": {},
   "outputs": [],
   "source": [
    "output_size = 12\n",
    "wine_model = arch_generator(len(wine_data.columns), output_size)\n",
    "\n",
    "wine_trained = kohonen(wine_model,wine_data.values)"
   ]
  },
  {
   "cell_type": "code",
   "execution_count": 8,
   "metadata": {
    "scrolled": false
   },
   "outputs": [
    {
     "name": "stdout",
     "output_type": "stream",
     "text": [
      "Initialization\n"
     ]
    },
    {
     "data": {
      "image/png": "[encoded data removed]",
      "text/plain": [
       "<Figure size 432x288 with 2 Axes>"
      ]
     },
     "metadata": {},
     "output_type": "display_data"
    },
    {
     "name": "stdout",
     "output_type": "stream",
     "text": [
      "Final\n"
     ]
    },
    {
     "data": {
      "text/plain": [
       "<matplotlib.axes._subplots.AxesSubplot at 0x7f2b34b4d048>"
      ]
     },
     "execution_count": 8,
     "metadata": {},
     "output_type": "execute_result"
    },
    {
     "data": {
      "image/png": "[encoded data removed]",
      "text/plain": [
       "<Figure size 432x288 with 2 Axes>"
      ]
     },
     "metadata": {},
     "output_type": "display_data"
    }
   ],
   "source": [
    "I = np.zeros((output_size,output_size))\n",
    "print(\"Initialization\")\n",
    "sns.heatmap(I)\n",
    "plt.show()\n",
    "\n",
    "filenames = []\n",
    "for ii in wine_data.index:\n",
    "    BMU = np.argmin(dist_euclidian( wine_data.loc[ii].values, wine_model[2]))\n",
    "    I[ BMU // output_size ][ BMU % output_size ] = target.loc[ii]\n",
    "    \n",
    "    plt.imshow(I, cmap='plasma')\n",
    "    ref_filename = \"./{:s}/kohonen {:d}.png\".format(\"img\", ii)\n",
    "    \n",
    "    filenames += [ref_filename]\n",
    "    plt.savefig(ref_filename)\n",
    "\n",
    "print(\"Final\")\n",
    "sns.heatmap(I)"
   ]
  },
  {
   "cell_type": "code",
   "execution_count": 9,
   "metadata": {},
   "outputs": [],
   "source": [
    "import imageio\n",
    "\n",
    "images = []\n",
    "for filename in filenames:\n",
    "    images.append(imageio.imread(filename, format='png'))\n",
    "imageio.mimsave('./heatmap.gif', images)"
   ]
  }
 ],
 "metadata": {
  "kernelspec": {
   "display_name": "Environment (conda_anaconda3)",
   "language": "python",
   "name": "conda_anaconda3"
  },
  "language_info": {
   "codemirror_mode": {
    "name": "ipython",
    "version": 3
   },
   "file_extension": ".py",
   "mimetype": "text/x-python",
   "name": "python",
   "nbconvert_exporter": "python",
   "pygments_lexer": "ipython3",
   "version": "3.6.5"
  }
 },
 "nbformat": 4,
 "nbformat_minor": 2
}
