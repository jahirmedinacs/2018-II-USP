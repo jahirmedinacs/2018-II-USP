{
 "cells": [
  {
   "cell_type": "code",
   "execution_count": 1,
   "metadata": {},
   "outputs": [],
   "source": [
    "import pandas as pd\n",
    "import numpy as np\n",
    "\n",
    "import matplotlib as m_plt\n",
    "from matplotlib import pyplot as plt\n",
    "\n",
    "from copy import copy\n",
    "from pprint import pprint\n",
    "\n",
    "import sys\n",
    "import os\n",
    "\n",
    "import personal_plotter as p_plt"
   ]
  },
  {
   "cell_type": "markdown",
   "metadata": {},
   "source": [
    "# Autoasociator\n",
    "\n",
    "## 1. Data Generation"
   ]
  },
  {
   "cell_type": "code",
   "execution_count": 2,
   "metadata": {},
   "outputs": [
    {
     "name": "stdout",
     "output_type": "stream",
     "text": [
      "[[1. 0. 0. 0. 0. 0. 0. 0. 0. 0.]\n",
      " [0. 1. 0. 0. 0. 0. 0. 0. 0. 0.]\n",
      " [0. 0. 1. 0. 0. 0. 0. 0. 0. 0.]\n",
      " [0. 0. 0. 1. 0. 0. 0. 0. 0. 0.]\n",
      " [0. 0. 0. 0. 1. 0. 0. 0. 0. 0.]\n",
      " [0. 0. 0. 0. 0. 1. 0. 0. 0. 0.]\n",
      " [0. 0. 0. 0. 0. 0. 1. 0. 0. 0.]\n",
      " [0. 0. 0. 0. 0. 0. 0. 1. 0. 0.]\n",
      " [0. 0. 0. 0. 0. 0. 0. 0. 1. 0.]\n",
      " [0. 0. 0. 0. 0. 0. 0. 0. 0. 1.]]\n"
     ]
    }
   ],
   "source": [
    "dummy_shape = (10)\n",
    "dummy_data = np.identity(dummy_shape)\n",
    "print(dummy_data)"
   ]
  },
  {
   "cell_type": "markdown",
   "metadata": {},
   "source": [
    "### 1.1 Data Sampling\n",
    "\n",
    "we use our dummy data generated befor as template, being the input and objetive data equal to."
   ]
  },
  {
   "cell_type": "code",
   "execution_count": 3,
   "metadata": {},
   "outputs": [],
   "source": [
    "input_data = dummy_data.copy()\n",
    "temp_shape = copy(input_data.shape)\n",
    "input_data = list(map(lambda x : np.matrix(x), np.split(input_data.flatten(), temp_shape[1])))\n",
    "\n",
    "objetive_data = dummy_data.copy()\n",
    "temp_shape = copy(objetive_data.shape)\n",
    "objetive_data = list(map(lambda x : np.matrix(x), np.split(objetive_data.flatten(), temp_shape[1])))"
   ]
  },
  {
   "cell_type": "markdown",
   "metadata": {},
   "source": [
    "## 2. Neural Network\n",
    "\n",
    "### 2.1 Arquitecture\n",
    "bla bla\n",
    "#### 2.1.1 Input Layer\n",
    "bla bla\n",
    "#### 2.1.2 Hiden Layer\n",
    "bla bla\n",
    "#### 2.1.3 Output Layer\n",
    "bla bla\n",
    "\n",
    "---\n",
    "___\n",
    "---\n",
    "\n",
    "### 2.2 Functions ( Training Procedure)\n",
    "bla bla\n",
    "#### 2.2.1 Activation Function\n",
    "bla bla sigmoid"
   ]
  },
  {
   "cell_type": "code",
   "execution_count": 4,
   "metadata": {},
   "outputs": [],
   "source": [
    "def sigmoid(x_val):\n",
    "    return 1 / (1 + np.exp(-x_val))"
   ]
  },
  {
   "cell_type": "markdown",
   "metadata": {},
   "source": [
    "#### 2.2.2 Forward\n",
    "bla ble"
   ]
  },
  {
   "cell_type": "code",
   "execution_count": 5,
   "metadata": {},
   "outputs": [],
   "source": [
    "def forward_engine(input_data, objective_data, weigth_data_container, \n",
    "                   theta_container,kernel=sigmoid, \n",
    "                   verbose=False, *args):\n",
    "    \n",
    "    output = [ None for _ in range(len(weigth_data_container)) ]\n",
    "    \n",
    "    relative_layer = input_data.copy()\n",
    "    for index in range(len(weigth_data_container)):\n",
    "            \n",
    "            if verbose:\n",
    "                print(relative_layer.shape, weigth_data_container[index].shape, theta_container[index].shape)\n",
    "            \n",
    "            carry =  kernel((relative_layer *  weigth_data_container[index]) + theta_container[index])\n",
    "            output[index] = carry.copy()\n",
    "            \n",
    "            relative_layer = carry.copy()\n",
    "    \n",
    "    return output"
   ]
  },
  {
   "cell_type": "markdown",
   "metadata": {},
   "source": [
    "#### 2.2.3 Gradient Derivates\n",
    "bla ble"
   ]
  },
  {
   "cell_type": "code",
   "execution_count": 6,
   "metadata": {},
   "outputs": [],
   "source": [
    "def d_sigmoid( x_val, mode=\"layer\"):\n",
    "    if mode == \"layer\":\n",
    "        return np.multiply(x_val , (x_val - 1))\n",
    "    elif mode == \"input\":\n",
    "        temp = sigmoid(x_val)\n",
    "        return np.multiply(temp, (temp - 1))        "
   ]
  },
  {
   "cell_type": "markdown",
   "metadata": {},
   "source": [
    "#### 2.2.4 Backward\n",
    "bla ble"
   ]
  },
  {
   "cell_type": "code",
   "execution_count": 7,
   "metadata": {},
   "outputs": [],
   "source": [
    "def backward_engine(input_data, objective_data, weigth_data_container, theta_container,\n",
    "                    forward_data_container, derivate=d_sigmoid,\n",
    "                    learning_rate=0.05, verbose=False, *args):\n",
    "    \n",
    "    output = copy(weigth_data_container)\n",
    "    t_output = copy(theta_container)\n",
    "    \n",
    "    last_layer = True\n",
    "    for index in range( len(weigth_data_container) - 1, -1, -1 ):\n",
    "        \n",
    "            if last_layer:\n",
    "                \n",
    "                e = np.multiply((forward_data_container[index] - objective_data) , derivate(forward_data_container[index]))\n",
    "                \n",
    "                output[index] += learning_rate * ( e.T * forward_data_container[index - 1]).T\n",
    "                \n",
    "                t_output[index] += learning_rate * e\n",
    "                \n",
    "                last_layer = False\n",
    "                \n",
    "                if verbose:\n",
    "                    print(\"output layer\")\n",
    "            else:\n",
    "                \n",
    "                if index > 0:\n",
    "                    e = np.multiply( (e * weigth_data_container[index + 1].T) , derivate(forward_data_container[index]))\n",
    "                                        \n",
    "                    output[index] += learning_rate * np.multiply( e.T , forward_data_container[index - 1]).T\n",
    "                    \n",
    "                    t_output[index] += learning_rate * e\n",
    "                    \n",
    "                    if verbose:\n",
    "                        print(\"in between layers \", index)\n",
    "                    \n",
    "                else:\n",
    "                    e = np.multiply( (e * weigth_data_container[index + 1].T) , derivate(forward_data_container[index]))\n",
    "                    \n",
    "                    output[index] += learning_rate * np.multiply( e.T , input_data).T\n",
    "                    \n",
    "                    t_output[index] += learning_rate * e\n",
    "                    \n",
    "                    if  verbose:\n",
    "                        print(\"input layer\")\n",
    "                        \n",
    "            if verbose:\n",
    "                print(\"e \\t\")\n",
    "                print(e)\n",
    "                print(e.T.shape)\n",
    "                \n",
    "                print(\"Forwared Shape \\t\")\n",
    "                print(forward_data_container[index - 1].shape)\n",
    "                \n",
    "                print(\"Weigth \\t\")\n",
    "                print (output[index].shape)\n",
    "                print(output[index])\n",
    "                \n",
    "                print(\"Theta \\t\")\n",
    "                print (t_output[index].shape)\n",
    "                print(t_output[index])\n",
    "    \n",
    "    return output, t_output"
   ]
  },
  {
   "cell_type": "markdown",
   "metadata": {},
   "source": [
    "#### 2.2.5 Engine\n",
    "bla ble"
   ]
  },
  {
   "cell_type": "code",
   "execution_count": 8,
   "metadata": {},
   "outputs": [],
   "source": [
    "def MLP_engine(input_data, objetive_data,\n",
    "               layer_set_up = [10,4,10],\n",
    "               theta = False,\n",
    "               function_set=[sigmoid, d_sigmoid],\n",
    "               learning_rate=0.05, epochs=int(1e3), threshold=0.05,\n",
    "               verbose=False):\n",
    "    \n",
    "    shape_container = layer_set_up\n",
    "    \n",
    "    weigth_data_container = [ np.random.sample((shape_container[ii], shape_container[ii + 1])) + 1\n",
    "                             for ii in range(len(shape_container[:-1])) ]\n",
    "\n",
    "    if theta:\n",
    "        theta_container = list(map(lambda x : np.matrix(x), [ np.random.sample(ii)  + 1 for ii in shape_container[1:]]))\n",
    "    else:\n",
    "        theta_container = list(map(lambda x : np.matrix(x), [ np.zeros(ii) for ii in shape_container[1:] ]))\n",
    "    \n",
    "    if verbose:\n",
    "        print(\"weigth\", weigth_data_container)\n",
    "        print(\"theta\", theta_container)\n",
    "    \n",
    "    iters = 0\n",
    "    while epochs != 0 :\n",
    "        epoch_cum = 0\n",
    "        \n",
    "        for id_data in range(len(input_data)):\n",
    "            \n",
    "            forward_data_container = forward_engine(input_data[id_data], objetive_data[id_data],\n",
    "                                                    weigth_data_container, theta_container,\n",
    "                                                    kernel=function_set[0],\n",
    "                                                    verbose=verbose)\n",
    "            \n",
    "            if  verbose:\n",
    "                print(forward_data_container)\n",
    "            \n",
    "            weigth_data_container, theta_container = backward_engine(input_data[id_data], objetive_data[id_data],\n",
    "                            weigth_data_container, theta_container,\n",
    "                            forward_data_container, derivate=function_set[1],\n",
    "                            learning_rate=learning_rate,\n",
    "                                                    verbose=verbose)\n",
    "            \n",
    "            epoch_cum += np.sqrt(np.sum(np.power(objetive_data[id_data] - forward_data_container[-1], 2))/ len(forward_data_container[-1]))\n",
    "            #epoch_cum += objetive_data[id_data] - forward_data_container[-1]\n",
    "        \n",
    "        if iters < 1000:\n",
    "            if epochs % 50 == 0:\n",
    "                print(epoch_cum / len(input_data))\n",
    "        \n",
    "        if epochs%10000 == 0:\n",
    "            print(epoch_cum / len(input_data))\n",
    "            \n",
    "        if epoch_cum / len(input_data) < threshold:\n",
    "            break\n",
    "        else:\n",
    "            pass\n",
    "        \n",
    "        iters += 1\n",
    "        epochs -= 1\n",
    "    \n",
    "    print(iters)\n",
    "    return weigth_data_container, theta_container, shape_container"
   ]
  },
  {
   "cell_type": "markdown",
   "metadata": {},
   "source": [
    "## 2.3 Test\n",
    "\n",
    "bla bla"
   ]
  },
  {
   "cell_type": "code",
   "execution_count": 15,
   "metadata": {},
   "outputs": [
    {
     "name": "stdout",
     "output_type": "stream",
     "text": [
      "[matrix([[1, 1]]), matrix([[1, 0]]), matrix([[0, 1]]), matrix([[0, 0]])]\n",
      "[matrix([[1]]), matrix([[0]]), matrix([[0]]), matrix([[1]])]\n",
      "0.5007085593474673\n",
      "0.5007085593474673\n",
      "0.5395381984550992\n",
      "0.5385354315138625\n",
      "0.5385983405414412\n",
      "0.5390530663420631\n",
      "0.5398019682631993\n",
      "0.5407971229480435\n",
      "0.5421317826998283\n",
      "0.5443415979063442\n",
      "0.545354755716049\n",
      "0.5340788068065505\n",
      "0.524535868159625\n",
      "0.5252245767725461\n",
      "0.5255005413871005\n",
      "0.5246327619840092\n",
      "0.523320265116126\n",
      "0.5226715959235766\n",
      "0.522212589406642\n",
      "0.5203245045806935\n",
      "0.5197833514399983\n",
      "0.5156531305939724\n"
     ]
    },
    {
     "ename": "KeyboardInterrupt",
     "evalue": "",
     "output_type": "error",
     "traceback": [
      "\u001b[0;31m---------------------------------------------------------------------------\u001b[0m",
      "\u001b[0;31mKeyboardInterrupt\u001b[0m                         Traceback (most recent call last)",
      "\u001b[0;32m<ipython-input-15-7a32bc55dfbe>\u001b[0m in \u001b[0;36m<module>\u001b[0;34m()\u001b[0m\n\u001b[1;32m      9\u001b[0m                            \u001b[0mlayer_set_up\u001b[0m\u001b[0;34m=\u001b[0m\u001b[0;34m[\u001b[0m\u001b[0;36m2\u001b[0m\u001b[0;34m,\u001b[0m \u001b[0;36m2\u001b[0m\u001b[0;34m,\u001b[0m \u001b[0;36m1\u001b[0m\u001b[0;34m]\u001b[0m\u001b[0;34m,\u001b[0m \u001b[0mtheta\u001b[0m\u001b[0;34m=\u001b[0m\u001b[0;32mTrue\u001b[0m\u001b[0;34m,\u001b[0m\u001b[0;34m\u001b[0m\u001b[0m\n\u001b[1;32m     10\u001b[0m                            \u001b[0mepochs\u001b[0m\u001b[0;34m=\u001b[0m\u001b[0mint\u001b[0m\u001b[0;34m(\u001b[0m\u001b[0;36m1e7\u001b[0m\u001b[0;34m)\u001b[0m\u001b[0;34m,\u001b[0m \u001b[0mlearning_rate\u001b[0m\u001b[0;34m=\u001b[0m\u001b[0;36m1\u001b[0m\u001b[0;34m,\u001b[0m\u001b[0;34m\u001b[0m\u001b[0m\n\u001b[0;32m---> 11\u001b[0;31m                            verbose=False)\n\u001b[0m\u001b[1;32m     12\u001b[0m \u001b[0;34m\u001b[0m\u001b[0m\n\u001b[1;32m     13\u001b[0m \u001b[0;31m# w_d, t_d, s_d = MLP_engine(input_data, objetive_data,\u001b[0m\u001b[0;34m\u001b[0m\u001b[0;34m\u001b[0m\u001b[0m\n",
      "\u001b[0;32m<ipython-input-8-917d060236e8>\u001b[0m in \u001b[0;36mMLP_engine\u001b[0;34m(input_data, objetive_data, layer_set_up, theta, function_set, learning_rate, epochs, threshold, verbose)\u001b[0m\n\u001b[1;32m     38\u001b[0m                             \u001b[0mforward_data_container\u001b[0m\u001b[0;34m,\u001b[0m \u001b[0mderivate\u001b[0m\u001b[0;34m=\u001b[0m\u001b[0mfunction_set\u001b[0m\u001b[0;34m[\u001b[0m\u001b[0;36m1\u001b[0m\u001b[0;34m]\u001b[0m\u001b[0;34m,\u001b[0m\u001b[0;34m\u001b[0m\u001b[0m\n\u001b[1;32m     39\u001b[0m                             \u001b[0mlearning_rate\u001b[0m\u001b[0;34m=\u001b[0m\u001b[0mlearning_rate\u001b[0m\u001b[0;34m,\u001b[0m\u001b[0;34m\u001b[0m\u001b[0m\n\u001b[0;32m---> 40\u001b[0;31m                                                     verbose=verbose)\n\u001b[0m\u001b[1;32m     41\u001b[0m \u001b[0;34m\u001b[0m\u001b[0m\n\u001b[1;32m     42\u001b[0m             \u001b[0mepoch_cum\u001b[0m \u001b[0;34m+=\u001b[0m \u001b[0mnp\u001b[0m\u001b[0;34m.\u001b[0m\u001b[0msqrt\u001b[0m\u001b[0;34m(\u001b[0m\u001b[0mnp\u001b[0m\u001b[0;34m.\u001b[0m\u001b[0msum\u001b[0m\u001b[0;34m(\u001b[0m\u001b[0mnp\u001b[0m\u001b[0;34m.\u001b[0m\u001b[0mpower\u001b[0m\u001b[0;34m(\u001b[0m\u001b[0mobjetive_data\u001b[0m\u001b[0;34m[\u001b[0m\u001b[0mid_data\u001b[0m\u001b[0;34m]\u001b[0m \u001b[0;34m-\u001b[0m \u001b[0mforward_data_container\u001b[0m\u001b[0;34m[\u001b[0m\u001b[0;34m-\u001b[0m\u001b[0;36m1\u001b[0m\u001b[0;34m]\u001b[0m\u001b[0;34m,\u001b[0m \u001b[0;36m2\u001b[0m\u001b[0;34m)\u001b[0m\u001b[0;34m)\u001b[0m\u001b[0;34m/\u001b[0m \u001b[0mlen\u001b[0m\u001b[0;34m(\u001b[0m\u001b[0mforward_data_container\u001b[0m\u001b[0;34m[\u001b[0m\u001b[0;34m-\u001b[0m\u001b[0;36m1\u001b[0m\u001b[0;34m]\u001b[0m\u001b[0;34m)\u001b[0m\u001b[0;34m)\u001b[0m\u001b[0;34m\u001b[0m\u001b[0m\n",
      "\u001b[0;32m<ipython-input-7-f10b32ab5868>\u001b[0m in \u001b[0;36mbackward_engine\u001b[0;34m(input_data, objective_data, weigth_data_container, theta_container, forward_data_container, derivate, learning_rate, verbose, *args)\u001b[0m\n\u001b[1;32m     36\u001b[0m                     \u001b[0me\u001b[0m \u001b[0;34m=\u001b[0m \u001b[0mnp\u001b[0m\u001b[0;34m.\u001b[0m\u001b[0mmultiply\u001b[0m\u001b[0;34m(\u001b[0m \u001b[0;34m(\u001b[0m\u001b[0me\u001b[0m \u001b[0;34m*\u001b[0m \u001b[0mweigth_data_container\u001b[0m\u001b[0;34m[\u001b[0m\u001b[0mindex\u001b[0m \u001b[0;34m+\u001b[0m \u001b[0;36m1\u001b[0m\u001b[0;34m]\u001b[0m\u001b[0;34m.\u001b[0m\u001b[0mT\u001b[0m\u001b[0;34m)\u001b[0m \u001b[0;34m,\u001b[0m \u001b[0mderivate\u001b[0m\u001b[0;34m(\u001b[0m\u001b[0mforward_data_container\u001b[0m\u001b[0;34m[\u001b[0m\u001b[0mindex\u001b[0m\u001b[0;34m]\u001b[0m\u001b[0;34m)\u001b[0m\u001b[0;34m)\u001b[0m\u001b[0;34m\u001b[0m\u001b[0m\n\u001b[1;32m     37\u001b[0m \u001b[0;34m\u001b[0m\u001b[0m\n\u001b[0;32m---> 38\u001b[0;31m                     \u001b[0moutput\u001b[0m\u001b[0;34m[\u001b[0m\u001b[0mindex\u001b[0m\u001b[0;34m]\u001b[0m \u001b[0;34m+=\u001b[0m \u001b[0mlearning_rate\u001b[0m \u001b[0;34m*\u001b[0m \u001b[0mnp\u001b[0m\u001b[0;34m.\u001b[0m\u001b[0mmultiply\u001b[0m\u001b[0;34m(\u001b[0m \u001b[0me\u001b[0m\u001b[0;34m.\u001b[0m\u001b[0mT\u001b[0m \u001b[0;34m,\u001b[0m \u001b[0minput_data\u001b[0m\u001b[0;34m)\u001b[0m\u001b[0;34m.\u001b[0m\u001b[0mT\u001b[0m\u001b[0;34m\u001b[0m\u001b[0m\n\u001b[0m\u001b[1;32m     39\u001b[0m \u001b[0;34m\u001b[0m\u001b[0m\n\u001b[1;32m     40\u001b[0m                     \u001b[0mt_output\u001b[0m\u001b[0;34m[\u001b[0m\u001b[0mindex\u001b[0m\u001b[0;34m]\u001b[0m \u001b[0;34m+=\u001b[0m \u001b[0mlearning_rate\u001b[0m \u001b[0;34m*\u001b[0m \u001b[0me\u001b[0m\u001b[0;34m\u001b[0m\u001b[0m\n",
      "\u001b[0;32m~/anaconda3/lib/python3.6/site-packages/numpy/matrixlib/defmatrix.py\u001b[0m in \u001b[0;36m__array_finalize__\u001b[0;34m(self, obj)\u001b[0m\n\u001b[1;32m    162\u001b[0m         \u001b[0;32mreturn\u001b[0m \u001b[0mret\u001b[0m\u001b[0;34m\u001b[0m\u001b[0m\n\u001b[1;32m    163\u001b[0m \u001b[0;34m\u001b[0m\u001b[0m\n\u001b[0;32m--> 164\u001b[0;31m     \u001b[0;32mdef\u001b[0m \u001b[0m__array_finalize__\u001b[0m\u001b[0;34m(\u001b[0m\u001b[0mself\u001b[0m\u001b[0;34m,\u001b[0m \u001b[0mobj\u001b[0m\u001b[0;34m)\u001b[0m\u001b[0;34m:\u001b[0m\u001b[0;34m\u001b[0m\u001b[0m\n\u001b[0m\u001b[1;32m    165\u001b[0m         \u001b[0mself\u001b[0m\u001b[0;34m.\u001b[0m\u001b[0m_getitem\u001b[0m \u001b[0;34m=\u001b[0m \u001b[0;32mFalse\u001b[0m\u001b[0;34m\u001b[0m\u001b[0m\n\u001b[1;32m    166\u001b[0m         \u001b[0;32mif\u001b[0m \u001b[0;34m(\u001b[0m\u001b[0misinstance\u001b[0m\u001b[0;34m(\u001b[0m\u001b[0mobj\u001b[0m\u001b[0;34m,\u001b[0m \u001b[0mmatrix\u001b[0m\u001b[0;34m)\u001b[0m \u001b[0;32mand\u001b[0m \u001b[0mobj\u001b[0m\u001b[0;34m.\u001b[0m\u001b[0m_getitem\u001b[0m\u001b[0;34m)\u001b[0m\u001b[0;34m:\u001b[0m \u001b[0;32mreturn\u001b[0m\u001b[0;34m\u001b[0m\u001b[0m\n",
      "\u001b[0;31mKeyboardInterrupt\u001b[0m: "
     ]
    }
   ],
   "source": [
    "a = [[1,1], [1,0], [0,1], [0,0]]\n",
    "a = list(map(lambda x: np.matrix(x), a))\n",
    "print(a)\n",
    "b = [1, 0, 0, 1]\n",
    "b = list(map(lambda x: np.matrix(x), b))\n",
    "print(b)\n",
    "\n",
    "w_d, t_d, s_d = MLP_engine(a, b,\n",
    "                           layer_set_up=[2, 2, 1], theta=True,\n",
    "                           epochs=int(1e7), learning_rate=1,\n",
    "                           verbose=False)\n",
    "\n",
    "# w_d, t_d, s_d = MLP_engine(input_data, objetive_data,\n",
    "#                            layer_set_up=[10, 4, 10], theta=True,\n",
    "#                            epochs=int(1e6), learning_rate=1,\n",
    "#                            verbose=False)\n",
    "\n",
    "\n",
    "# print(input_data[0])\n",
    "# print(objetive_data[0])\n",
    "# print(forward_engine(input_data[0], objetive_data[0], w_d, t_d))"
   ]
  },
  {
   "cell_type": "code",
   "execution_count": 12,
   "metadata": {},
   "outputs": [
    {
     "name": "stdout",
     "output_type": "stream",
     "text": [
      "CASE  0\n",
      "[[1 1]]\n",
      "[[1]]\n",
      "[matrix([[0.999681]])]\n",
      "CASE  1\n",
      "[[1 0]]\n",
      "[[1]]\n",
      "[matrix([[0.95272309]])]\n",
      "CASE  2\n",
      "[[0 1]]\n",
      "[[1]]\n",
      "[matrix([[0.94015742]])]\n",
      "CASE  3\n",
      "[[0 0]]\n",
      "[[0]]\n",
      "[matrix([[0.09175674]])]\n"
     ]
    }
   ],
   "source": [
    "for i in range(4):\n",
    "    print(\"CASE \", i)\n",
    "    print(a[i])\n",
    "    print(b[i])\n",
    "    print(forward_engine(a[i], b[i], w_d, t_d))"
   ]
  },
  {
   "cell_type": "code",
   "execution_count": null,
   "metadata": {},
   "outputs": [],
   "source": []
  }
 ],
 "metadata": {
  "kernelspec": {
   "display_name": "Python 3",
   "language": "python",
   "name": "python3"
  },
  "language_info": {
   "codemirror_mode": {
    "name": "ipython",
    "version": 3
   },
   "file_extension": ".py",
   "mimetype": "text/x-python",
   "name": "python",
   "nbconvert_exporter": "python",
   "pygments_lexer": "ipython3",
   "version": "3.6.4"
  }
 },
 "nbformat": 4,
 "nbformat_minor": 2
}
