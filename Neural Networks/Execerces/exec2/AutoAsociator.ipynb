{
 "cells": [
  {
   "cell_type": "code",
   "execution_count": 1,
   "metadata": {},
   "outputs": [],
   "source": [
    "import pandas as pd\n",
    "import numpy as np\n",
    "\n",
    "import matplotlib as m_plt\n",
    "from matplotlib import pyplot as plt\n",
    "\n",
    "from copy import copy\n",
    "from pprint import pprint\n",
    "\n",
    "import sys\n",
    "import os\n",
    "\n",
    "import personal_plotter as p_plt"
   ]
  },
  {
   "cell_type": "markdown",
   "metadata": {},
   "source": [
    "# Autoasociator\n",
    "\n",
    "## 1. Data Generation"
   ]
  },
  {
   "cell_type": "code",
   "execution_count": 2,
   "metadata": {},
   "outputs": [
    {
     "name": "stdout",
     "output_type": "stream",
     "text": [
      "[[1. 0. 0. 0. 0. 0. 0. 0. 0. 0.]\n",
      " [0. 1. 0. 0. 0. 0. 0. 0. 0. 0.]\n",
      " [0. 0. 1. 0. 0. 0. 0. 0. 0. 0.]\n",
      " [0. 0. 0. 1. 0. 0. 0. 0. 0. 0.]\n",
      " [0. 0. 0. 0. 1. 0. 0. 0. 0. 0.]\n",
      " [0. 0. 0. 0. 0. 1. 0. 0. 0. 0.]\n",
      " [0. 0. 0. 0. 0. 0. 1. 0. 0. 0.]\n",
      " [0. 0. 0. 0. 0. 0. 0. 1. 0. 0.]\n",
      " [0. 0. 0. 0. 0. 0. 0. 0. 1. 0.]\n",
      " [0. 0. 0. 0. 0. 0. 0. 0. 0. 1.]]\n"
     ]
    }
   ],
   "source": [
    "dummy_shape = (10)\n",
    "dummy_data = np.identity(dummy_shape)\n",
    "print(dummy_data)"
   ]
  },
  {
   "cell_type": "markdown",
   "metadata": {},
   "source": [
    "### 1.1 Data Sampling\n",
    "\n",
    "We are gonna use our dummy data (before generated) as a template, being the input and objective data equal is not necessary to create another dummy data for the objective one."
   ]
  },
  {
   "cell_type": "code",
   "execution_count": 3,
   "metadata": {},
   "outputs": [],
   "source": [
    "input_data = dummy_data.copy()\n",
    "temp_shape = copy(input_data.shape)\n",
    "input_data = list(map(lambda x : np.matrix(x), np.split(input_data.flatten(), temp_shape[1])))\n",
    "\n",
    "objetive_data = dummy_data.copy()\n",
    "temp_shape = copy(objetive_data.shape)\n",
    "objetive_data = list(map(lambda x : np.matrix(x), np.split(objetive_data.flatten(), temp_shape[1])))"
   ]
  },
  {
   "cell_type": "markdown",
   "metadata": {},
   "source": [
    "## 2. Neural Network\n",
    "\n",
    "### 2.1 Arquitecture\n",
    "\n",
    "The autoencoder is symmetric MLP, where the for every input, the target output is himself,  why symmetric?; because the architecture looks like:\n",
    "\n",
    "$$ n_{(x)} , a_{(1)}, a_{(2)}, ..., a_{(m)}, a_{(m-1)}, ..., a_{(1)},n_{(y)} $$\n",
    "\n",
    "#### 2.1.1 Input Layer\n",
    "\n",
    "In this case, the input layer has 10 neurons ***(10 cases with 10 values each one)***\n",
    "\n",
    "#### 2.1.2 Hiden Layer\n",
    "\n",
    "By problem condition, it has a single hidden layer, with $ \\large{\\log_{2}^{\\eta{(n_{(x)})}}} $ neurons, considering $ \\eta{(n_{(x)})} = 10$ , the hidden layer is $\\log_{2}^{10} = 3.219 $ , but $ \\eta{(x_{i})} \\in \\mathbb{N}$ , then $ \\lceil 3.219 \\rceil = 4 $.\n",
    "\n",
    "**Note:** $ \\eta{(x_{i})} = n_{i} $ is the number of neurons in the layer $x_{i}$\n",
    "\n",
    "#### 2.1.3 Output Layer\n",
    "\n",
    "Considering the autoencoder is symmetric, the output layer also has to be 10 neurons in size.\n",
    "\n",
    "---\n",
    "___\n",
    "---\n",
    "\n",
    "### 2.2 Functions ( Training Procedure)\n",
    "\n",
    "\n",
    "\n",
    "#### 2.2.1 Activation Function\n",
    "\n",
    "Being an MLP, we are gonna use a classic architecture (see \\[2.1.2\\] Section), thus, the activation function is gonna be the Sigmoid function :\n",
    "\n",
    "$$ f(x) = \\frac{1}{1 + e^{-x}} $$\n"
   ]
  },
  {
   "cell_type": "code",
   "execution_count": 4,
   "metadata": {},
   "outputs": [],
   "source": [
    "def sigmoid(x_val):\n",
    "    return 1 / (1 + np.exp(-x_val))"
   ]
  },
  {
   "cell_type": "markdown",
   "metadata": {},
   "source": [
    "#### 2.2.2 Forward\n",
    "\n",
    "\n"
   ]
  },
  {
   "cell_type": "code",
   "execution_count": 5,
   "metadata": {},
   "outputs": [],
   "source": [
    "def forward_engine(input_data, objective_data, weigth_data_container, \n",
    "                   theta_container,kernel=sigmoid, \n",
    "                   verbose=True, *args):\n",
    "    \n",
    "    output = [ None for _ in range(len(weigth_data_container)) ]\n",
    "    \n",
    "    relative_layer = input_data.copy()\n",
    "    for index in range(len(weigth_data_container)):\n",
    "            \n",
    "            if verbose:\n",
    "                print(relative_layer.shape, weigth_data_container[index].shape, theta_container[index].shape)\n",
    "            \n",
    "            carry =  kernel((relative_layer *  weigth_data_container[index]) + theta_container[index])\n",
    "            output[index] = carry.copy()\n",
    "            \n",
    "            relative_layer = carry.copy()\n",
    "    \n",
    "    return output"
   ]
  },
  {
   "cell_type": "markdown",
   "metadata": {},
   "source": [
    "#### 2.2.3 Gradient Derivates\n",
    "bla ble"
   ]
  },
  {
   "cell_type": "code",
   "execution_count": 6,
   "metadata": {},
   "outputs": [],
   "source": [
    "def d_sigmoid( x_val, mode=\"layer\"):\n",
    "    if mode == \"layer\":\n",
    "        return np.multiply(x_val , (x_val - 1))\n",
    "    elif mode == \"input\":\n",
    "        temp = sigmoid(x_val)\n",
    "        return np.multiply(temp, (temp - 1))        "
   ]
  },
  {
   "cell_type": "markdown",
   "metadata": {},
   "source": [
    "#### 2.2.4 Backward\n",
    "bla ble"
   ]
  },
  {
   "cell_type": "code",
   "execution_count": 7,
   "metadata": {},
   "outputs": [],
   "source": [
    "def backward_engine(input_data, objective_data, weigth_data_container, theta_container,\n",
    "                    forward_data_container, derivate=d_sigmoid,\n",
    "                    learning_rate=0.05, *args):\n",
    "    \n",
    "    output = copy(weigth_data_container)\n",
    "\n",
    "    for index in range( len(weigth_data_container) - 1, -1, -1 ):\n",
    "            if index == len(weigth_data_container) - 1:\n",
    "                e = np.multiply((forward_data_container[index] - objective_data) , d_sigmoid(forward_data_container[index]))\n",
    "                output[index] -= learning_rate * np.multiply( e , forward_data_container[index])\n",
    "            else:\n",
    "                e = np.multiply(e, d_sigmoid(forward_data_container[index + 1]))\n",
    "                output[index] -= learning_rate * np.multiply( e , forward_data_container[index] )\n",
    "    \n",
    "    return output"
   ]
  },
  {
   "cell_type": "markdown",
   "metadata": {},
   "source": [
    "#### 2.2.5 Engine\n",
    "bla ble"
   ]
  },
  {
   "cell_type": "code",
   "execution_count": 8,
   "metadata": {},
   "outputs": [],
   "source": [
    "def MLP_engine(input_data, objetive_data,\n",
    "               layer_set_up = [4],\n",
    "               theta = False,\n",
    "               function_set=[sigmoid, d_sigmoid],\n",
    "               learning_rate=0.05, epochs=int(1e3), threashold=0.05):\n",
    "    \n",
    "    shape_container = [len(input_data)] + layer_set_up + [len(objetive_data)]\n",
    "    \n",
    "    weigth_data_container = [ np.random.sample((shape_container[ii], shape_container[ii + 1]))\n",
    "                             for ii in range(len(shape_container[:-1])) ]\n",
    "    \n",
    "    if theta:\n",
    "        theta_container = list(map(lambda x : np.matrix(x), [ np.random.sample(ii) for ii in shape_container[1:]]))\n",
    "    else:\n",
    "        theta_container = list(map(lambda x : np.matrix(x), [ np.zeros(ii) for ii in shape_container[1:] ]))\n",
    "\n",
    "    while epochs != 0 :\n",
    "        \n",
    "        for id_data in range(len(input_data)):\n",
    "            \n",
    "            forward_data_container = forward_engine(input_data[id_data], objetive_data[id_data],\n",
    "                                                    weigth_data_container, theta_container,\n",
    "                                                    kernel=function_set[0])\n",
    "            \n",
    "            print(forward_data_container)\n",
    "            \n",
    "            weigth_data_container = backward_engine(input_data[id_data], objetive_data[id_data],\n",
    "                            weigth_data_container, theta_container,\n",
    "                            forward_data_container, derivate=function_set[1],\n",
    "                            learning_rate=learning_rate)\n",
    "            \n",
    "        epochs -= 1\n",
    "            \n",
    "    return weigth_data_container, theta_container, shape_container"
   ]
  },
  {
   "cell_type": "markdown",
   "metadata": {},
   "source": [
    "## 2.3 Test\n",
    "\n",
    "bla bla"
   ]
  },
  {
   "cell_type": "code",
   "execution_count": 9,
   "metadata": {},
   "outputs": [
    {
     "name": "stdout",
     "output_type": "stream",
     "text": [
      "(1, 10) (10, 4) (1, 4)\n",
      "(1, 4) (4, 10) (1, 10)\n",
      "[matrix([[0.53838508, 0.66985921, 0.54228164, 0.61828576]]), matrix([[0.71953794, 0.7151201 , 0.7907564 , 0.76900069, 0.76102436,\n",
      "         0.78237125, 0.72035707, 0.81704982, 0.83088811, 0.74635181]])]\n"
     ]
    },
    {
     "ename": "ValueError",
     "evalue": "operands could not be broadcast together with shapes (1,10) (1,4) ",
     "output_type": "error",
     "traceback": [
      "\u001b[0;31m---------------------------------------------------------------------------\u001b[0m",
      "\u001b[0;31mValueError\u001b[0m                                Traceback (most recent call last)",
      "\u001b[0;32m<ipython-input-9-46f6d8191d28>\u001b[0m in \u001b[0;36m<module>\u001b[0;34m()\u001b[0m\n\u001b[0;32m----> 1\u001b[0;31m \u001b[0mw_d\u001b[0m\u001b[0;34m,\u001b[0m \u001b[0mt_d\u001b[0m\u001b[0;34m,\u001b[0m \u001b[0ms_d\u001b[0m \u001b[0;34m=\u001b[0m \u001b[0mMLP_engine\u001b[0m\u001b[0;34m(\u001b[0m\u001b[0minput_data\u001b[0m\u001b[0;34m,\u001b[0m \u001b[0mobjetive_data\u001b[0m\u001b[0;34m)\u001b[0m\u001b[0;34m\u001b[0m\u001b[0m\n\u001b[0m\u001b[1;32m      2\u001b[0m \u001b[0;34m\u001b[0m\u001b[0m\n\u001b[1;32m      3\u001b[0m \u001b[0mprint\u001b[0m\u001b[0;34m(\u001b[0m\u001b[0minput_data\u001b[0m\u001b[0;34m[\u001b[0m\u001b[0;36m0\u001b[0m\u001b[0;34m]\u001b[0m\u001b[0;34m)\u001b[0m\u001b[0;34m\u001b[0m\u001b[0m\n\u001b[1;32m      4\u001b[0m \u001b[0mprint\u001b[0m\u001b[0;34m(\u001b[0m\u001b[0mobjetive_data\u001b[0m\u001b[0;34m[\u001b[0m\u001b[0;36m0\u001b[0m\u001b[0;34m]\u001b[0m\u001b[0;34m)\u001b[0m\u001b[0;34m\u001b[0m\u001b[0m\n\u001b[1;32m      5\u001b[0m \u001b[0mprint\u001b[0m\u001b[0;34m(\u001b[0m\u001b[0mforward_engine\u001b[0m\u001b[0;34m(\u001b[0m\u001b[0minput_data\u001b[0m\u001b[0;34m[\u001b[0m\u001b[0;36m0\u001b[0m\u001b[0;34m]\u001b[0m\u001b[0;34m,\u001b[0m \u001b[0mobjetive_data\u001b[0m\u001b[0;34m[\u001b[0m\u001b[0;36m0\u001b[0m\u001b[0;34m]\u001b[0m\u001b[0;34m,\u001b[0m \u001b[0mw_d\u001b[0m\u001b[0;34m,\u001b[0m \u001b[0mt_d\u001b[0m\u001b[0;34m)\u001b[0m\u001b[0;34m)\u001b[0m\u001b[0;34m\u001b[0m\u001b[0m\n",
      "\u001b[0;32m<ipython-input-8-2457984b6baf>\u001b[0m in \u001b[0;36mMLP_engine\u001b[0;34m(input_data, objetive_data, layer_set_up, theta, function_set, learning_rate, epochs, threashold)\u001b[0m\n\u001b[1;32m     28\u001b[0m                             \u001b[0mweigth_data_container\u001b[0m\u001b[0;34m,\u001b[0m \u001b[0mtheta_container\u001b[0m\u001b[0;34m,\u001b[0m\u001b[0;34m\u001b[0m\u001b[0m\n\u001b[1;32m     29\u001b[0m                             \u001b[0mforward_data_container\u001b[0m\u001b[0;34m,\u001b[0m \u001b[0mderivate\u001b[0m\u001b[0;34m=\u001b[0m\u001b[0mfunction_set\u001b[0m\u001b[0;34m[\u001b[0m\u001b[0;36m1\u001b[0m\u001b[0;34m]\u001b[0m\u001b[0;34m,\u001b[0m\u001b[0;34m\u001b[0m\u001b[0m\n\u001b[0;32m---> 30\u001b[0;31m                             learning_rate=learning_rate)\n\u001b[0m\u001b[1;32m     31\u001b[0m \u001b[0;34m\u001b[0m\u001b[0m\n\u001b[1;32m     32\u001b[0m         \u001b[0mepochs\u001b[0m \u001b[0;34m-=\u001b[0m \u001b[0;36m1\u001b[0m\u001b[0;34m\u001b[0m\u001b[0m\n",
      "\u001b[0;32m<ipython-input-7-c0b43fb98a85>\u001b[0m in \u001b[0;36mbackward_engine\u001b[0;34m(input_data, objective_data, weigth_data_container, theta_container, forward_data_container, derivate, learning_rate, *args)\u001b[0m\n\u001b[1;32m     11\u001b[0m             \u001b[0;32melse\u001b[0m\u001b[0;34m:\u001b[0m\u001b[0;34m\u001b[0m\u001b[0m\n\u001b[1;32m     12\u001b[0m                 \u001b[0me\u001b[0m \u001b[0;34m=\u001b[0m \u001b[0mnp\u001b[0m\u001b[0;34m.\u001b[0m\u001b[0mmultiply\u001b[0m\u001b[0;34m(\u001b[0m\u001b[0me\u001b[0m\u001b[0;34m,\u001b[0m \u001b[0md_sigmoid\u001b[0m\u001b[0;34m(\u001b[0m\u001b[0mforward_data_container\u001b[0m\u001b[0;34m[\u001b[0m\u001b[0mindex\u001b[0m \u001b[0;34m+\u001b[0m \u001b[0;36m1\u001b[0m\u001b[0;34m]\u001b[0m\u001b[0;34m)\u001b[0m\u001b[0;34m)\u001b[0m\u001b[0;34m\u001b[0m\u001b[0m\n\u001b[0;32m---> 13\u001b[0;31m                 \u001b[0moutput\u001b[0m\u001b[0;34m[\u001b[0m\u001b[0mindex\u001b[0m\u001b[0;34m]\u001b[0m \u001b[0;34m-=\u001b[0m \u001b[0mlearning_rate\u001b[0m \u001b[0;34m*\u001b[0m \u001b[0mnp\u001b[0m\u001b[0;34m.\u001b[0m\u001b[0mmultiply\u001b[0m\u001b[0;34m(\u001b[0m \u001b[0me\u001b[0m \u001b[0;34m,\u001b[0m \u001b[0mforward_data_container\u001b[0m\u001b[0;34m[\u001b[0m\u001b[0mindex\u001b[0m\u001b[0;34m]\u001b[0m \u001b[0;34m)\u001b[0m\u001b[0;34m\u001b[0m\u001b[0m\n\u001b[0m\u001b[1;32m     14\u001b[0m \u001b[0;34m\u001b[0m\u001b[0m\n\u001b[1;32m     15\u001b[0m     \u001b[0;32mreturn\u001b[0m \u001b[0moutput\u001b[0m\u001b[0;34m\u001b[0m\u001b[0m\n",
      "\u001b[0;31mValueError\u001b[0m: operands could not be broadcast together with shapes (1,10) (1,4) "
     ]
    }
   ],
   "source": [
    "w_d, t_d, s_d = MLP_engine(input_data, objetive_data)\n",
    "\n",
    "print(input_data[0])\n",
    "print(objetive_data[0])\n",
    "print(forward_engine(input_data[0], objetive_data[0], w_d, t_d))"
   ]
  },
  {
   "cell_type": "code",
   "execution_count": null,
   "metadata": {},
   "outputs": [],
   "source": []
  },
  {
   "cell_type": "code",
   "execution_count": null,
   "metadata": {},
   "outputs": [],
   "source": []
  }
 ],
 "metadata": {
  "kernelspec": {
   "display_name": "Python 3",
   "language": "python",
   "name": "python3"
  },
  "language_info": {
   "codemirror_mode": {
    "name": "ipython",
    "version": 3
   },
   "file_extension": ".py",
   "mimetype": "text/x-python",
   "name": "python",
   "nbconvert_exporter": "python",
   "pygments_lexer": "ipython3",
   "version": "3.6.5"
  }
 },
 "nbformat": 4,
 "nbformat_minor": 2
}
