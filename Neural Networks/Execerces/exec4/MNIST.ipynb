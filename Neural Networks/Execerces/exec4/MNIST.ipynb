{
 "cells": [
  {
   "cell_type": "code",
   "execution_count": 1,
   "metadata": {},
   "outputs": [
    {
     "name": "stderr",
     "output_type": "stream",
     "text": [
      "Using TensorFlow backend.\n"
     ]
    }
   ],
   "source": [
    "from matplotlib import pyplot as plt\n",
    "import numpy as np\n",
    "import pandas as pd\n",
    "\n",
    "from copy import copy as copy\n",
    "\n",
    "import os\n",
    "import sys\n",
    "\n",
    "import pprint\n",
    "\n",
    "from keras.datasets import mnist"
   ]
  },
  {
   "cell_type": "code",
   "execution_count": 2,
   "metadata": {},
   "outputs": [],
   "source": [
    "PLOT = True\n",
    "NUM_OF_CLASS = 10\n",
    "VERBOSE = True"
   ]
  },
  {
   "cell_type": "code",
   "execution_count": 3,
   "metadata": {},
   "outputs": [],
   "source": [
    "from keras.models import Sequential\n",
    "from keras.layers import Dense, Conv2D, MaxPooling2D, Dropout, Flatten\n",
    "\n",
    "import keras.utils"
   ]
  },
  {
   "cell_type": "code",
   "execution_count": null,
   "metadata": {},
   "outputs": [],
   "source": []
  },
  {
   "cell_type": "code",
   "execution_count": 4,
   "metadata": {},
   "outputs": [
    {
     "name": "stdout",
     "output_type": "stream",
     "text": [
      "Input_train shape: (60000, 28, 28, 1)\n",
      "60000 train samples\n",
      "10000 test samples\n"
     ]
    }
   ],
   "source": [
    "# The data, split between train and test sets:\n",
    "(Input_train, Objetive_train), (Input_test, Objetive_test) = mnist.load_data()\n",
    "\n",
    "Input_train = Input_train.reshape(tuple(list(Input_train.shape) + [1]))\n",
    "Input_test = Input_test.reshape(tuple(list(Input_test.shape) + [1]))\n",
    "\n",
    "print('Input_train shape:', Input_train.shape)\n",
    "print(Input_train.shape[0], 'train samples')\n",
    "print(Input_test.shape[0], 'test samples')"
   ]
  },
  {
   "cell_type": "code",
   "execution_count": 5,
   "metadata": {},
   "outputs": [],
   "source": [
    "# Convert class vectors to binary class matrices.\n",
    "Objetive_train = keras.utils.to_categorical(Objetive_train, NUM_OF_CLASS)\n",
    "Objetive_test = keras.utils.to_categorical(Objetive_test, NUM_OF_CLASS)"
   ]
  },
  {
   "cell_type": "code",
   "execution_count": 6,
   "metadata": {},
   "outputs": [],
   "source": [
    "#Architecture\n",
    "def createModel(input_shape, nClasses):\n",
    "    model = Sequential()\n",
    "    \n",
    "    model.add(Conv2D(32, (2, 2), padding='same', activation='relu', input_shape=input_shape))\n",
    "    model.add(Conv2D(28, (3, 3), activation='selu'))\n",
    "    model.add(MaxPooling2D(pool_size=(2, 2)))\n",
    "    model.add(Dropout(0.3))\n",
    "    \n",
    "#     model.add(Conv2D(48, (2, 2), padding='same', activation='selu'))\n",
    "#     model.add(Conv2D(48, (4, 4), activation='relu'))\n",
    "#     model.add(MaxPooling2D(pool_size=(2, 2)))\n",
    "#     model.add(Dropout(0.3))\n",
    "    \n",
    "#     model.add(Conv2D(64, (3, 3), padding='same', activation='relu'))\n",
    "#     model.add(Conv2D(64, (3, 3), activation='selu'))\n",
    "#     model.add(MaxPooling2D(pool_size=(2, 2)))\n",
    "#     model.add(Dropout(0.3))\n",
    " \n",
    "    model.add(Flatten())\n",
    "#     model.add(Dense(500, activation='selu'))\n",
    "#     model.add(Dropout(0.8))\n",
    "#     model.add(Dense(300, activation='relu'))\n",
    "#     model.add(Dropout(0.4))\n",
    "    model.add(Dense(nClasses, activation='softmax'))\n",
    "     \n",
    "    return model"
   ]
  },
  {
   "cell_type": "code",
   "execution_count": null,
   "metadata": {},
   "outputs": [],
   "source": []
  },
  {
   "cell_type": "code",
   "execution_count": 7,
   "metadata": {},
   "outputs": [],
   "source": [
    "## Train Parameters\n",
    "\n",
    "epochs = 50\n",
    "batch_size = 1000\n",
    "\n",
    "###\n",
    "\n",
    "output_model = createModel(Input_train.shape[1:], NUM_OF_CLASS)\n",
    "output_model.compile(optimizer='adadelta', loss='categorical_crossentropy', metrics=['accuracy'])"
   ]
  },
  {
   "cell_type": "code",
   "execution_count": 8,
   "metadata": {},
   "outputs": [
    {
     "name": "stdout",
     "output_type": "stream",
     "text": [
      "_________________________________________________________________\n",
      "Layer (type)                 Output Shape              Param #   \n",
      "=================================================================\n",
      "conv2d_1 (Conv2D)            (None, 28, 28, 32)        160       \n",
      "_________________________________________________________________\n",
      "conv2d_2 (Conv2D)            (None, 26, 26, 28)        8092      \n",
      "_________________________________________________________________\n",
      "max_pooling2d_1 (MaxPooling2 (None, 13, 13, 28)        0         \n",
      "_________________________________________________________________\n",
      "dropout_1 (Dropout)          (None, 13, 13, 28)        0         \n",
      "_________________________________________________________________\n",
      "flatten_1 (Flatten)          (None, 4732)              0         \n",
      "_________________________________________________________________\n",
      "dense_1 (Dense)              (None, 10)                47330     \n",
      "=================================================================\n",
      "Total params: 55,582\n",
      "Trainable params: 55,582\n",
      "Non-trainable params: 0\n",
      "_________________________________________________________________\n"
     ]
    }
   ],
   "source": [
    "output_model.summary()"
   ]
  },
  {
   "cell_type": "code",
   "execution_count": 9,
   "metadata": {
    "scrolled": false
   },
   "outputs": [
    {
     "name": "stdout",
     "output_type": "stream",
     "text": [
      "Train on 60000 samples, validate on 10000 samples\n",
      "Epoch 1/50\n",
      "60000/60000 [==============================] - 83s 1ms/step - loss: 3.1220 - acc: 0.7457 - val_loss: 0.1808 - val_acc: 0.9579\n",
      "Epoch 2/50\n",
      "60000/60000 [==============================] - 84s 1ms/step - loss: 0.2045 - acc: 0.9469 - val_loss: 0.0916 - val_acc: 0.9735\n",
      "Epoch 3/50\n",
      "60000/60000 [==============================] - 82s 1ms/step - loss: 0.1332 - acc: 0.9624 - val_loss: 0.0777 - val_acc: 0.9782\n",
      "Epoch 4/50\n",
      "60000/60000 [==============================] - 84s 1ms/step - loss: 0.1022 - acc: 0.9713 - val_loss: 0.0674 - val_acc: 0.9804\n",
      "Epoch 5/50\n",
      "60000/60000 [==============================] - 82s 1ms/step - loss: 0.0868 - acc: 0.9751 - val_loss: 0.0688 - val_acc: 0.9801\n",
      "Epoch 6/50\n",
      "60000/60000 [==============================] - 84s 1ms/step - loss: 0.0752 - acc: 0.9780 - val_loss: 0.0851 - val_acc: 0.9781\n",
      "Epoch 7/50\n",
      "60000/60000 [==============================] - 82s 1ms/step - loss: 0.0578 - acc: 0.9823 - val_loss: 0.0594 - val_acc: 0.9835\n",
      "Epoch 8/50\n",
      "60000/60000 [==============================] - 84s 1ms/step - loss: 0.0552 - acc: 0.9838 - val_loss: 0.0733 - val_acc: 0.9800\n",
      "Epoch 9/50\n",
      "60000/60000 [==============================] - 82s 1ms/step - loss: 0.0485 - acc: 0.9856 - val_loss: 0.0654 - val_acc: 0.9851\n",
      "Epoch 10/50\n",
      "60000/60000 [==============================] - 84s 1ms/step - loss: 0.0417 - acc: 0.9876 - val_loss: 0.0525 - val_acc: 0.9874\n",
      "Epoch 11/50\n",
      "60000/60000 [==============================] - 82s 1ms/step - loss: 0.0368 - acc: 0.9891 - val_loss: 0.0833 - val_acc: 0.9812\n",
      "Epoch 12/50\n",
      "60000/60000 [==============================] - 84s 1ms/step - loss: 0.0357 - acc: 0.9897 - val_loss: 0.0799 - val_acc: 0.9818\n",
      "Epoch 13/50\n",
      "60000/60000 [==============================] - 115s 2ms/step - loss: 0.0303 - acc: 0.9912 - val_loss: 0.0679 - val_acc: 0.9859\n",
      "Epoch 14/50\n",
      "60000/60000 [==============================] - 288s 5ms/step - loss: 0.0278 - acc: 0.9915 - val_loss: 0.0652 - val_acc: 0.9859\n",
      "Epoch 15/50\n",
      "60000/60000 [==============================] - 299s 5ms/step - loss: 0.0298 - acc: 0.9909 - val_loss: 0.0753 - val_acc: 0.9852\n",
      "Epoch 16/50\n",
      "60000/60000 [==============================] - 300s 5ms/step - loss: 0.0252 - acc: 0.9925 - val_loss: 0.0724 - val_acc: 0.9854\n",
      "Epoch 17/50\n",
      "60000/60000 [==============================] - 300s 5ms/step - loss: 0.0235 - acc: 0.9930 - val_loss: 0.0727 - val_acc: 0.9845\n",
      "Epoch 18/50\n",
      "60000/60000 [==============================] - 299s 5ms/step - loss: 0.0249 - acc: 0.9925 - val_loss: 0.0672 - val_acc: 0.9868\n",
      "Epoch 19/50\n",
      "60000/60000 [==============================] - 300s 5ms/step - loss: 0.0227 - acc: 0.9932 - val_loss: 0.0638 - val_acc: 0.9875\n",
      "Epoch 20/50\n",
      "60000/60000 [==============================] - 300s 5ms/step - loss: 0.0218 - acc: 0.9936 - val_loss: 0.0703 - val_acc: 0.9854\n",
      "Epoch 21/50\n",
      "60000/60000 [==============================] - 299s 5ms/step - loss: 0.0192 - acc: 0.9939 - val_loss: 0.0725 - val_acc: 0.9865\n",
      "Epoch 22/50\n",
      "60000/60000 [==============================] - 300s 5ms/step - loss: 0.0195 - acc: 0.9942 - val_loss: 0.0842 - val_acc: 0.9854\n",
      "Epoch 23/50\n",
      "60000/60000 [==============================] - 300s 5ms/step - loss: 0.0211 - acc: 0.9936 - val_loss: 0.0652 - val_acc: 0.9874\n",
      "Epoch 24/50\n",
      "60000/60000 [==============================] - 299s 5ms/step - loss: 0.0155 - acc: 0.9953 - val_loss: 0.0777 - val_acc: 0.9866\n",
      "Epoch 25/50\n",
      "60000/60000 [==============================] - 300s 5ms/step - loss: 0.0186 - acc: 0.9941 - val_loss: 0.0721 - val_acc: 0.9867\n",
      "Epoch 26/50\n",
      "60000/60000 [==============================] - 300s 5ms/step - loss: 0.0165 - acc: 0.9949 - val_loss: 0.0783 - val_acc: 0.9871\n",
      "Epoch 27/50\n",
      "60000/60000 [==============================] - 299s 5ms/step - loss: 0.0179 - acc: 0.9951 - val_loss: 0.0730 - val_acc: 0.9871\n",
      "Epoch 28/50\n",
      "60000/60000 [==============================] - 300s 5ms/step - loss: 0.0175 - acc: 0.9954 - val_loss: 0.0876 - val_acc: 0.9850\n",
      "Epoch 29/50\n",
      "60000/60000 [==============================] - 300s 5ms/step - loss: 0.0143 - acc: 0.9960 - val_loss: 0.0747 - val_acc: 0.9872\n",
      "Epoch 30/50\n",
      "60000/60000 [==============================] - 299s 5ms/step - loss: 0.0176 - acc: 0.9953 - val_loss: 0.0776 - val_acc: 0.9862\n",
      "Epoch 31/50\n",
      "60000/60000 [==============================] - 300s 5ms/step - loss: 0.0160 - acc: 0.9956 - val_loss: 0.0705 - val_acc: 0.9876\n",
      "Epoch 32/50\n",
      "60000/60000 [==============================] - 300s 5ms/step - loss: 0.0139 - acc: 0.9961 - val_loss: 0.0742 - val_acc: 0.9862\n",
      "Epoch 33/50\n",
      "60000/60000 [==============================] - 299s 5ms/step - loss: 0.0127 - acc: 0.9962 - val_loss: 0.0729 - val_acc: 0.9862\n",
      "Epoch 34/50\n",
      "60000/60000 [==============================] - 300s 5ms/step - loss: 0.0147 - acc: 0.9958 - val_loss: 0.0862 - val_acc: 0.9852\n",
      "Epoch 35/50\n",
      "60000/60000 [==============================] - 300s 5ms/step - loss: 0.0136 - acc: 0.9961 - val_loss: 0.0821 - val_acc: 0.9875\n",
      "Epoch 36/50\n",
      "60000/60000 [==============================] - 299s 5ms/step - loss: 0.0132 - acc: 0.9958 - val_loss: 0.0827 - val_acc: 0.9870\n",
      "Epoch 37/50\n",
      "60000/60000 [==============================] - 300s 5ms/step - loss: 0.0142 - acc: 0.9958 - val_loss: 0.0836 - val_acc: 0.9873\n",
      "Epoch 38/50\n",
      "60000/60000 [==============================] - 300s 5ms/step - loss: 0.0136 - acc: 0.9960 - val_loss: 0.0750 - val_acc: 0.9868\n",
      "Epoch 39/50\n",
      "60000/60000 [==============================] - 299s 5ms/step - loss: 0.0116 - acc: 0.9966 - val_loss: 0.0736 - val_acc: 0.9876\n",
      "Epoch 40/50\n",
      "60000/60000 [==============================] - 300s 5ms/step - loss: 0.0132 - acc: 0.9964 - val_loss: 0.0794 - val_acc: 0.9870\n",
      "Epoch 41/50\n",
      "60000/60000 [==============================] - 300s 5ms/step - loss: 0.0135 - acc: 0.9961 - val_loss: 0.0928 - val_acc: 0.9864\n",
      "Epoch 42/50\n",
      "60000/60000 [==============================] - 299s 5ms/step - loss: 0.0142 - acc: 0.9960 - val_loss: 0.0825 - val_acc: 0.9880\n",
      "Epoch 43/50\n",
      "60000/60000 [==============================] - 300s 5ms/step - loss: 0.0111 - acc: 0.9969 - val_loss: 0.0844 - val_acc: 0.9878\n",
      "Epoch 44/50\n",
      "60000/60000 [==============================] - 300s 5ms/step - loss: 0.0115 - acc: 0.9968 - val_loss: 0.0802 - val_acc: 0.9878\n",
      "Epoch 45/50\n",
      "60000/60000 [==============================] - 299s 5ms/step - loss: 0.0124 - acc: 0.9967 - val_loss: 0.0819 - val_acc: 0.9875\n",
      "Epoch 46/50\n",
      "60000/60000 [==============================] - 300s 5ms/step - loss: 0.0107 - acc: 0.9973 - val_loss: 0.0925 - val_acc: 0.9870\n",
      "Epoch 47/50\n",
      "60000/60000 [==============================] - 299s 5ms/step - loss: 0.0124 - acc: 0.9964 - val_loss: 0.0933 - val_acc: 0.9860\n",
      "Epoch 48/50\n",
      "60000/60000 [==============================] - 293s 5ms/step - loss: 0.0115 - acc: 0.9968 - val_loss: 0.0888 - val_acc: 0.9872\n",
      "Epoch 49/50\n",
      "60000/60000 [==============================] - 299s 5ms/step - loss: 0.0132 - acc: 0.9964 - val_loss: 0.0839 - val_acc: 0.9878\n",
      "Epoch 50/50\n",
      "60000/60000 [==============================] - 298s 5ms/step - loss: 0.0107 - acc: 0.9971 - val_loss: 0.0912 - val_acc: 0.9872\n"
     ]
    }
   ],
   "source": [
    "history = output_model.fit(Input_train, Objetive_train, batch_size=batch_size, epochs=epochs, verbose=VERBOSE, \n",
    "                       validation_data=(Input_test, Objetive_test))"
   ]
  },
  {
   "cell_type": "code",
   "execution_count": 10,
   "metadata": {},
   "outputs": [
    {
     "name": "stdout",
     "output_type": "stream",
     "text": [
      "10000/10000 [==============================] - 16s 2ms/step\n"
     ]
    },
    {
     "data": {
      "text/plain": [
       "[0.09120837999720374, 0.9872]"
      ]
     },
     "execution_count": 10,
     "metadata": {},
     "output_type": "execute_result"
    }
   ],
   "source": [
    "output_model.evaluate(Input_test, Objetive_test)"
   ]
  },
  {
   "cell_type": "code",
   "execution_count": 11,
   "metadata": {},
   "outputs": [
    {
     "data": {
      "image/png": "[encoded data removed]",
      "text/plain": [
       "<Figure size 576x432 with 1 Axes>"
      ]
     },
     "metadata": {},
     "output_type": "display_data"
    },
    {
     "data": {
      "image/png": "[encoded data removed]",
      "text/plain": [
       "<Figure size 576x432 with 1 Axes>"
      ]
     },
     "metadata": {},
     "output_type": "display_data"
    }
   ],
   "source": [
    "if PLOT:\n",
    "    ## Plots\n",
    "    # Loss Curves\n",
    "    plt.figure(figsize=[8,6])\n",
    "    plt.plot(history.history['loss'],'.r')\n",
    "    plt.plot(history.history['val_loss'],'.b')\n",
    "    plt.plot(history.history['loss'],'--y')\n",
    "    plt.plot(history.history['val_loss'],'--g')\n",
    "    plt.legend(['Training loss', 'Validation Loss'],fontsize=18)\n",
    "    plt.xlabel('Epochs ',fontsize=16)\n",
    "    plt.ylabel('Loss',fontsize=16)\n",
    "    plt.title('Loss Curves',fontsize=16)\n",
    "    plt.show()\n",
    "\n",
    "    # Accuracy Curves\n",
    "    plt.figure(figsize=[8,6])\n",
    "    plt.plot(history.history['acc'],'.r')\n",
    "    plt.plot(history.history['val_acc'],'.b')\n",
    "    plt.plot(history.history['acc'],'--y')\n",
    "    plt.plot(history.history['val_acc'],'--g')\n",
    "    plt.legend(['Training Accuracy', 'Validation Accuracy'],fontsize=18)\n",
    "    plt.xlabel('Epochs ',fontsize=16)\n",
    "    plt.ylabel('Accuracy',fontsize=16)\n",
    "    plt.title('Accuracy Curves',fontsize=16)\n",
    "    plt.show()"
   ]
  },
  {
   "cell_type": "code",
   "execution_count": 12,
   "metadata": {},
   "outputs": [],
   "source": [
    "output_model.save(filepath=\"./mnist_model_v1\", include_optimizer=1)"
   ]
  },
  {
   "cell_type": "code",
   "execution_count": null,
   "metadata": {},
   "outputs": [],
   "source": []
  },
  {
   "cell_type": "code",
   "execution_count": null,
   "metadata": {},
   "outputs": [],
   "source": []
  },
  {
   "cell_type": "code",
   "execution_count": null,
   "metadata": {},
   "outputs": [],
   "source": []
  }
 ],
 "metadata": {
  "kernelspec": {
   "display_name": "Environment (conda_tensorflow_p36)",
   "language": "python",
   "name": "conda_tensorflow_p36"
  },
  "language_info": {
   "codemirror_mode": {
    "name": "ipython",
    "version": 3
   },
   "file_extension": ".py",
   "mimetype": "text/x-python",
   "name": "python",
   "nbconvert_exporter": "python",
   "pygments_lexer": "ipython3",
   "version": "3.6.5"
  }
 },
 "nbformat": 4,
 "nbformat_minor": 2
}
