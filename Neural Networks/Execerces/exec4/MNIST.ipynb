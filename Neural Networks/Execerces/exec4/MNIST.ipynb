{
 "cells": [
  {
   "cell_type": "code",
   "execution_count": 6,
   "metadata": {},
   "outputs": [],
   "source": [
    "from matplotlib import pyplot as plt\n",
    "import numpy as np\n",
    "import pandas as pd\n",
    "\n",
    "from copy import copy as copy\n",
    "\n",
    "import os\n",
    "import sys\n",
    "\n",
    "import pprint"
   ]
  },
  {
   "cell_type": "code",
   "execution_count": 7,
   "metadata": {},
   "outputs": [],
   "source": [
    "import tensorflow"
   ]
  },
  {
   "cell_type": "code",
   "execution_count": 8,
   "metadata": {},
   "outputs": [
    {
     "name": "stdout",
     "output_type": "stream",
     "text": [
      "[name: \"/device:CPU:0\"\n",
      "device_type: \"CPU\"\n",
      "memory_limit: 268435456\n",
      "locality {\n",
      "}\n",
      "incarnation: 16776545028573008860\n",
      ", name: \"/device:XLA_CPU:0\"\n",
      "device_type: \"XLA_CPU\"\n",
      "memory_limit: 17179869184\n",
      "locality {\n",
      "}\n",
      "incarnation: 13348909993853201815\n",
      "physical_device_desc: \"device: XLA_CPU device\"\n",
      "]\n"
     ]
    }
   ],
   "source": [
    "from tensorflow.python.client import device_lib\n",
    "print(device_lib.list_local_devices())"
   ]
  },
  {
   "cell_type": "code",
   "execution_count": 9,
   "metadata": {},
   "outputs": [
    {
     "data": {
      "text/plain": [
       "[]"
      ]
     },
     "execution_count": 9,
     "metadata": {},
     "output_type": "execute_result"
    }
   ],
   "source": [
    "from keras import backend as K\n",
    "K.tensorflow_backend._get_available_gpus()"
   ]
  },
  {
   "cell_type": "code",
   "execution_count": 10,
   "metadata": {},
   "outputs": [],
   "source": [
    "from keras.datasets import mnist"
   ]
  },
  {
   "cell_type": "code",
   "execution_count": 11,
   "metadata": {},
   "outputs": [],
   "source": [
    "PLOT = True\n",
    "NUM_OF_CLASS = 10\n",
    "VERBOSE = True"
   ]
  },
  {
   "cell_type": "code",
   "execution_count": 12,
   "metadata": {},
   "outputs": [],
   "source": [
    "from keras.models import Sequential\n",
    "from keras.layers import Dense, Conv2D, MaxPooling2D, Dropout, Flatten\n",
    "\n",
    "import keras.utils"
   ]
  },
  {
   "cell_type": "code",
   "execution_count": null,
   "metadata": {},
   "outputs": [],
   "source": []
  },
  {
   "cell_type": "code",
   "execution_count": 13,
   "metadata": {},
   "outputs": [
    {
     "name": "stdout",
     "output_type": "stream",
     "text": [
      "Input_train shape: (60000, 28, 28, 1)\n",
      "60000 train samples\n",
      "10000 test samples\n"
     ]
    }
   ],
   "source": [
    "# The data, split between train and test sets:\n",
    "(Input_train, Objetive_train), (Input_test, Objetive_test) = mnist.load_data()\n",
    "\n",
    "Input_train = Input_train.reshape(tuple(list(Input_train.shape) + [1]))\n",
    "Input_test = Input_test.reshape(tuple(list(Input_test.shape) + [1]))\n",
    "\n",
    "print('Input_train shape:', Input_train.shape)\n",
    "print(Input_train.shape[0], 'train samples')\n",
    "print(Input_test.shape[0], 'test samples')"
   ]
  },
  {
   "cell_type": "code",
   "execution_count": 14,
   "metadata": {},
   "outputs": [],
   "source": [
    "# Convert class vectors to binary class matrices.\n",
    "Objetive_train = keras.utils.to_categorical(Objetive_train, NUM_OF_CLASS)\n",
    "Objetive_test = keras.utils.to_categorical(Objetive_test, NUM_OF_CLASS)"
   ]
  },
  {
   "cell_type": "code",
   "execution_count": 15,
   "metadata": {},
   "outputs": [],
   "source": [
    "#Architecture\n",
    "def createModel(input_shape, nClasses):\n",
    "    model = Sequential()\n",
    "    \n",
    "    model.add(Conv2D(25, (2, 2), padding='same', activation='relu', input_shape=input_shape))\n",
    "    model.add(Conv2D(20, (2, 2), activation='relu'))\n",
    "    model.add(MaxPooling2D(pool_size=(2, 2)))\n",
    "    model.add(Dropout(0.1))\n",
    "    \n",
    "#     model.add(Conv2D(48, (2, 2), padding='same', activation='selu'))\n",
    "#     model.add(Conv2D(48, (4, 4), activation='relu'))\n",
    "#     model.add(MaxPooling2D(pool_size=(2, 2)))\n",
    "#     model.add(Dropout(0.3))\n",
    "    \n",
    "#     model.add(Conv2D(64, (3, 3), padding='same', activation='relu'))\n",
    "#     model.add(Conv2D(64, (3, 3), activation='selu'))\n",
    "#     model.add(MaxPooling2D(pool_size=(2, 2)))\n",
    "#     model.add(Dropout(0.3))\n",
    " \n",
    "    model.add(Flatten())\n",
    "#     model.add(Dense(500, activation='selu'))\n",
    "#     model.add(Dropout(0.8))\n",
    "#     model.add(Dense(300, activation='relu'))\n",
    "#     model.add(Dropout(0.4))\n",
    "    model.add(Dense(nClasses, activation='softmax'))\n",
    "     \n",
    "    return model"
   ]
  },
  {
   "cell_type": "code",
   "execution_count": null,
   "metadata": {},
   "outputs": [],
   "source": []
  },
  {
   "cell_type": "code",
   "execution_count": 16,
   "metadata": {},
   "outputs": [],
   "source": [
    "## Train Parameters\n",
    "\n",
    "epochs = 50\n",
    "batch_size = 1000\n",
    "\n",
    "###\n",
    "\n",
    "output_model = createModel(Input_train.shape[1:], NUM_OF_CLASS)\n",
    "output_model.compile(optimizer='adadelta', loss='categorical_crossentropy', metrics=['accuracy'])"
   ]
  },
  {
   "cell_type": "code",
   "execution_count": 17,
   "metadata": {},
   "outputs": [
    {
     "name": "stdout",
     "output_type": "stream",
     "text": [
      "_________________________________________________________________\n",
      "Layer (type)                 Output Shape              Param #   \n",
      "=================================================================\n",
      "conv2d_1 (Conv2D)            (None, 28, 28, 25)        125       \n",
      "_________________________________________________________________\n",
      "conv2d_2 (Conv2D)            (None, 27, 27, 20)        2020      \n",
      "_________________________________________________________________\n",
      "max_pooling2d_1 (MaxPooling2 (None, 13, 13, 20)        0         \n",
      "_________________________________________________________________\n",
      "dropout_1 (Dropout)          (None, 13, 13, 20)        0         \n",
      "_________________________________________________________________\n",
      "flatten_1 (Flatten)          (None, 3380)              0         \n",
      "_________________________________________________________________\n",
      "dense_1 (Dense)              (None, 10)                33810     \n",
      "=================================================================\n",
      "Total params: 35,955\n",
      "Trainable params: 35,955\n",
      "Non-trainable params: 0\n",
      "_________________________________________________________________\n"
     ]
    }
   ],
   "source": [
    "output_model.summary()"
   ]
  },
  {
   "cell_type": "code",
   "execution_count": 18,
   "metadata": {
    "scrolled": false
   },
   "outputs": [
    {
     "name": "stdout",
     "output_type": "stream",
     "text": [
      "Train on 60000 samples, validate on 10000 samples\n",
      "Epoch 1/50\n",
      "60000/60000 [==============================] - 28s 463us/step - loss: 2.4400 - acc: 0.7550 - val_loss: 0.1945 - val_acc: 0.9485\n",
      "Epoch 2/50\n",
      "60000/60000 [==============================] - 27s 458us/step - loss: 0.1857 - acc: 0.9459 - val_loss: 0.1111 - val_acc: 0.9653\n",
      "Epoch 3/50\n",
      "60000/60000 [==============================] - 27s 456us/step - loss: 0.1279 - acc: 0.9613 - val_loss: 0.0828 - val_acc: 0.9744\n",
      "Epoch 4/50\n",
      "60000/60000 [==============================] - 27s 457us/step - loss: 0.0936 - acc: 0.9714 - val_loss: 0.0805 - val_acc: 0.9745\n",
      "Epoch 5/50\n",
      "60000/60000 [==============================] - 28s 458us/step - loss: 0.0759 - acc: 0.9765 - val_loss: 0.0669 - val_acc: 0.9804\n",
      "Epoch 6/50\n",
      "60000/60000 [==============================] - 27s 457us/step - loss: 0.0642 - acc: 0.9804 - val_loss: 0.0620 - val_acc: 0.9814\n",
      "Epoch 7/50\n",
      "60000/60000 [==============================] - 27s 456us/step - loss: 0.0536 - acc: 0.9826 - val_loss: 0.0589 - val_acc: 0.9830\n",
      "Epoch 8/50\n",
      "60000/60000 [==============================] - 27s 458us/step - loss: 0.0464 - acc: 0.9852 - val_loss: 0.0609 - val_acc: 0.9814\n",
      "Epoch 9/50\n",
      "60000/60000 [==============================] - 27s 458us/step - loss: 0.0403 - acc: 0.9869 - val_loss: 0.0552 - val_acc: 0.9838\n",
      "Epoch 10/50\n",
      "60000/60000 [==============================] - 27s 457us/step - loss: 0.0341 - acc: 0.9892 - val_loss: 0.0592 - val_acc: 0.9832\n",
      "Epoch 11/50\n",
      "60000/60000 [==============================] - 27s 456us/step - loss: 0.0313 - acc: 0.9893 - val_loss: 0.0662 - val_acc: 0.9818\n",
      "Epoch 12/50\n",
      "60000/60000 [==============================] - 27s 457us/step - loss: 0.0309 - acc: 0.9901 - val_loss: 0.0585 - val_acc: 0.9835\n",
      "Epoch 13/50\n",
      "60000/60000 [==============================] - 27s 456us/step - loss: 0.0246 - acc: 0.9919 - val_loss: 0.0563 - val_acc: 0.9852\n",
      "Epoch 14/50\n",
      "60000/60000 [==============================] - 27s 456us/step - loss: 0.0199 - acc: 0.9936 - val_loss: 0.0606 - val_acc: 0.9842\n",
      "Epoch 15/50\n",
      "60000/60000 [==============================] - 27s 453us/step - loss: 0.0209 - acc: 0.9929 - val_loss: 0.0590 - val_acc: 0.9835\n",
      "Epoch 16/50\n",
      "60000/60000 [==============================] - 27s 454us/step - loss: 0.0180 - acc: 0.9943 - val_loss: 0.0565 - val_acc: 0.9848\n",
      "Epoch 17/50\n",
      "60000/60000 [==============================] - 27s 453us/step - loss: 0.0161 - acc: 0.9945 - val_loss: 0.0610 - val_acc: 0.9840\n",
      "Epoch 18/50\n",
      "60000/60000 [==============================] - 27s 453us/step - loss: 0.0152 - acc: 0.9948 - val_loss: 0.0841 - val_acc: 0.9798\n",
      "Epoch 19/50\n",
      "60000/60000 [==============================] - 27s 454us/step - loss: 0.0159 - acc: 0.9942 - val_loss: 0.0588 - val_acc: 0.9852\n",
      "Epoch 20/50\n",
      "60000/60000 [==============================] - 27s 453us/step - loss: 0.0119 - acc: 0.9961 - val_loss: 0.0659 - val_acc: 0.9835\n",
      "Epoch 21/50\n",
      "60000/60000 [==============================] - 27s 453us/step - loss: 0.0126 - acc: 0.9957 - val_loss: 0.0630 - val_acc: 0.9858\n",
      "Epoch 22/50\n",
      "60000/60000 [==============================] - 27s 453us/step - loss: 0.0108 - acc: 0.9964 - val_loss: 0.0617 - val_acc: 0.9865\n",
      "Epoch 23/50\n",
      "60000/60000 [==============================] - 27s 454us/step - loss: 0.0117 - acc: 0.9958 - val_loss: 0.0665 - val_acc: 0.9838\n",
      "Epoch 24/50\n",
      "60000/60000 [==============================] - 27s 454us/step - loss: 0.0098 - acc: 0.9965 - val_loss: 0.0644 - val_acc: 0.9854\n",
      "Epoch 25/50\n",
      "60000/60000 [==============================] - 27s 453us/step - loss: 0.0088 - acc: 0.9969 - val_loss: 0.0658 - val_acc: 0.9863\n",
      "Epoch 26/50\n",
      "60000/60000 [==============================] - 27s 453us/step - loss: 0.0090 - acc: 0.9970 - val_loss: 0.0681 - val_acc: 0.9849\n",
      "Epoch 27/50\n",
      "60000/60000 [==============================] - 27s 453us/step - loss: 0.0092 - acc: 0.9970 - val_loss: 0.0653 - val_acc: 0.9862\n",
      "Epoch 28/50\n",
      "60000/60000 [==============================] - 27s 455us/step - loss: 0.0081 - acc: 0.9973 - val_loss: 0.0662 - val_acc: 0.9853\n",
      "Epoch 29/50\n",
      "60000/60000 [==============================] - 27s 453us/step - loss: 0.0077 - acc: 0.9971 - val_loss: 0.0753 - val_acc: 0.9838\n",
      "Epoch 30/50\n",
      "60000/60000 [==============================] - 27s 453us/step - loss: 0.0071 - acc: 0.9976 - val_loss: 0.0697 - val_acc: 0.9861\n",
      "Epoch 31/50\n",
      "60000/60000 [==============================] - 27s 453us/step - loss: 0.0076 - acc: 0.9976 - val_loss: 0.0689 - val_acc: 0.9859\n",
      "Epoch 32/50\n",
      "60000/60000 [==============================] - 27s 452us/step - loss: 0.0073 - acc: 0.9976 - val_loss: 0.0662 - val_acc: 0.9872\n",
      "Epoch 33/50\n",
      "60000/60000 [==============================] - 27s 452us/step - loss: 0.0061 - acc: 0.9979 - val_loss: 0.0695 - val_acc: 0.9858\n",
      "Epoch 34/50\n",
      "60000/60000 [==============================] - 27s 451us/step - loss: 0.0083 - acc: 0.9971 - val_loss: 0.0689 - val_acc: 0.9862\n",
      "Epoch 35/50\n",
      "60000/60000 [==============================] - 27s 452us/step - loss: 0.0053 - acc: 0.9983 - val_loss: 0.0705 - val_acc: 0.9870\n",
      "Epoch 36/50\n",
      "60000/60000 [==============================] - 27s 453us/step - loss: 0.0055 - acc: 0.9983 - val_loss: 0.0705 - val_acc: 0.9869\n",
      "Epoch 37/50\n",
      "60000/60000 [==============================] - 27s 451us/step - loss: 0.0052 - acc: 0.9982 - val_loss: 0.0718 - val_acc: 0.9865\n",
      "Epoch 38/50\n",
      "60000/60000 [==============================] - 27s 451us/step - loss: 0.0051 - acc: 0.9983 - val_loss: 0.0740 - val_acc: 0.9861\n",
      "Epoch 39/50\n",
      "60000/60000 [==============================] - 27s 452us/step - loss: 0.0048 - acc: 0.9985 - val_loss: 0.0722 - val_acc: 0.9864\n",
      "Epoch 40/50\n",
      "60000/60000 [==============================] - 27s 442us/step - loss: 0.0052 - acc: 0.9985 - val_loss: 0.0750 - val_acc: 0.9862\n",
      "Epoch 41/50\n",
      "60000/60000 [==============================] - 27s 452us/step - loss: 0.0047 - acc: 0.9984 - val_loss: 0.0789 - val_acc: 0.9856\n",
      "Epoch 42/50\n",
      "60000/60000 [==============================] - 27s 454us/step - loss: 0.0052 - acc: 0.9981 - val_loss: 0.0775 - val_acc: 0.9859\n",
      "Epoch 43/50\n",
      "60000/60000 [==============================] - 27s 451us/step - loss: 0.0048 - acc: 0.9983 - val_loss: 0.0810 - val_acc: 0.9854\n",
      "Epoch 44/50\n",
      "60000/60000 [==============================] - 27s 451us/step - loss: 0.0050 - acc: 0.9984 - val_loss: 0.0781 - val_acc: 0.9864\n",
      "Epoch 45/50\n",
      "60000/60000 [==============================] - 27s 452us/step - loss: 0.0036 - acc: 0.9990 - val_loss: 0.0744 - val_acc: 0.9863\n",
      "Epoch 46/50\n",
      "60000/60000 [==============================] - 27s 451us/step - loss: 0.0052 - acc: 0.9983 - val_loss: 0.0773 - val_acc: 0.9854\n",
      "Epoch 47/50\n",
      "60000/60000 [==============================] - 27s 451us/step - loss: 0.0055 - acc: 0.9983 - val_loss: 0.0815 - val_acc: 0.9849\n",
      "Epoch 48/50\n",
      "60000/60000 [==============================] - 27s 450us/step - loss: 0.0042 - acc: 0.9986 - val_loss: 0.0819 - val_acc: 0.9862\n",
      "Epoch 49/50\n",
      "60000/60000 [==============================] - 27s 452us/step - loss: 0.0040 - acc: 0.9988 - val_loss: 0.0761 - val_acc: 0.9860\n",
      "Epoch 50/50\n",
      "60000/60000 [==============================] - 27s 451us/step - loss: 0.0039 - acc: 0.9987 - val_loss: 0.0798 - val_acc: 0.9872\n"
     ]
    }
   ],
   "source": [
    "history = output_model.fit(Input_train, Objetive_train, batch_size=batch_size, epochs=epochs, verbose=VERBOSE, \n",
    "                       validation_data=(Input_test, Objetive_test))"
   ]
  },
  {
   "cell_type": "code",
   "execution_count": 19,
   "metadata": {},
   "outputs": [
    {
     "name": "stdout",
     "output_type": "stream",
     "text": [
      "10000/10000 [==============================] - 1s 91us/step\n"
     ]
    },
    {
     "data": {
      "text/plain": [
       "[0.07984485813608494, 0.98719999999999997]"
      ]
     },
     "execution_count": 19,
     "metadata": {},
     "output_type": "execute_result"
    }
   ],
   "source": [
    "output_model.evaluate(Input_test, Objetive_test)"
   ]
  },
  {
   "cell_type": "code",
   "execution_count": 20,
   "metadata": {},
   "outputs": [
    {
     "data": {
      "image/png": "[encoded data removed]",
      "text/plain": [
       "<Figure size 576x432 with 1 Axes>"
      ]
     },
     "metadata": {
      "needs_background": "light"
     },
     "output_type": "display_data"
    },
    {
     "data": {
      "image/png": "[encoded data removed]",
      "text/plain": [
       "<Figure size 576x432 with 1 Axes>"
      ]
     },
     "metadata": {
      "needs_background": "light"
     },
     "output_type": "display_data"
    }
   ],
   "source": [
    "if PLOT:\n",
    "    ## Plots\n",
    "    # Loss Curves\n",
    "    plt.figure(figsize=[8,6])\n",
    "    plt.plot(history.history['loss'],'.r')\n",
    "    plt.plot(history.history['val_loss'],'.b')\n",
    "    plt.plot(history.history['loss'],'--y')\n",
    "    plt.plot(history.history['val_loss'],'--g')\n",
    "    plt.legend(['Training loss', 'Validation Loss'],fontsize=18)\n",
    "    plt.xlabel('Epochs ',fontsize=16)\n",
    "    plt.ylabel('Loss',fontsize=16)\n",
    "    plt.title('Loss Curves',fontsize=16)\n",
    "    plt.show()\n",
    "\n",
    "    # Accuracy Curves\n",
    "    plt.figure(figsize=[8,6])\n",
    "    plt.plot(history.history['acc'],'.r')\n",
    "    plt.plot(history.history['val_acc'],'.b')\n",
    "    plt.plot(history.history['acc'],'--y')\n",
    "    plt.plot(history.history['val_acc'],'--g')\n",
    "    plt.legend(['Training Accuracy', 'Validation Accuracy'],fontsize=18)\n",
    "    plt.xlabel('Epochs ',fontsize=16)\n",
    "    plt.ylabel('Accuracy',fontsize=16)\n",
    "    plt.title('Accuracy Curves',fontsize=16)\n",
    "    plt.show()"
   ]
  },
  {
   "cell_type": "code",
   "execution_count": 21,
   "metadata": {},
   "outputs": [],
   "source": [
    "output_model.save(filepath=\"./mnist_model_v3\", include_optimizer=1)"
   ]
  },
  {
   "cell_type": "code",
   "execution_count": null,
   "metadata": {},
   "outputs": [],
   "source": []
  },
  {
   "cell_type": "code",
   "execution_count": null,
   "metadata": {},
   "outputs": [],
   "source": []
  },
  {
   "cell_type": "code",
   "execution_count": null,
   "metadata": {},
   "outputs": [],
   "source": []
  }
 ],
 "metadata": {
  "kernelspec": {
   "display_name": "Python 3",
   "language": "python",
   "name": "python3"
  },
  "language_info": {
   "codemirror_mode": {
    "name": "ipython",
    "version": 3
   },
   "file_extension": ".py",
   "mimetype": "text/x-python",
   "name": "python",
   "nbconvert_exporter": "python",
   "pygments_lexer": "ipython3",
   "version": "3.6.3"
  }
 },
 "nbformat": 4,
 "nbformat_minor": 2
}
