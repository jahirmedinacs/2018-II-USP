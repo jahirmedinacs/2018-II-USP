{
 "cells": [
  {
   "cell_type": "code",
   "execution_count": 1,
   "metadata": {},
   "outputs": [
    {
     "name": "stderr",
     "output_type": "stream",
     "text": [
      "Using TensorFlow backend.\n"
     ]
    }
   ],
   "source": [
    "from matplotlib import pyplot as plt\n",
    "import numpy as np\n",
    "import pandas as pd\n",
    "\n",
    "from copy import copy as copy\n",
    "\n",
    "import os\n",
    "import sys\n",
    "\n",
    "import pprint\n",
    "\n",
    "from keras.datasets import mnist"
   ]
  },
  {
   "cell_type": "code",
   "execution_count": 2,
   "metadata": {},
   "outputs": [],
   "source": [
    "PLOT = True\n",
    "NUM_OF_CLASS = 10\n",
    "VERBOSE = True"
   ]
  },
  {
   "cell_type": "code",
   "execution_count": 3,
   "metadata": {},
   "outputs": [],
   "source": [
    "from keras.models import Sequential\n",
    "from keras.layers import Dense, Conv2D, MaxPooling2D, Dropout, Flatten\n",
    "\n",
    "import keras.utils"
   ]
  },
  {
   "cell_type": "code",
   "execution_count": null,
   "metadata": {},
   "outputs": [],
   "source": []
  },
  {
   "cell_type": "code",
   "execution_count": 4,
   "metadata": {},
   "outputs": [
    {
     "name": "stdout",
     "output_type": "stream",
     "text": [
      "Input_train shape: (60000, 28, 28, 1)\n",
      "60000 train samples\n",
      "10000 test samples\n"
     ]
    }
   ],
   "source": [
    "# The data, split between train and test sets:\n",
    "(Input_train, Objetive_train), (Input_test, Objetive_test) = mnist.load_data()\n",
    "\n",
    "Input_train = Input_train.reshape(tuple(list(Input_train.shape) + [1]))\n",
    "Input_test = Input_test.reshape(tuple(list(Input_test.shape) + [1]))\n",
    "\n",
    "print('Input_train shape:', Input_train.shape)\n",
    "print(Input_train.shape[0], 'train samples')\n",
    "print(Input_test.shape[0], 'test samples')"
   ]
  },
  {
   "cell_type": "code",
   "execution_count": 5,
   "metadata": {},
   "outputs": [],
   "source": [
    "# Convert class vectors to binary class matrices.\n",
    "Objetive_train = keras.utils.to_categorical(Objetive_train, NUM_OF_CLASS)\n",
    "Objetive_test = keras.utils.to_categorical(Objetive_test, NUM_OF_CLASS)"
   ]
  },
  {
   "cell_type": "code",
   "execution_count": 6,
   "metadata": {},
   "outputs": [],
   "source": [
    "#Architecture\n",
    "def createModel(input_shape, nClasses):\n",
    "    model = Sequential()\n",
    "    \n",
    "    model.add(Conv2D(20, (2, 2), padding='same', activation='relu', input_shape=input_shape))\n",
    "    model.add(Conv2D(10, (2, 2), activation='selu'))\n",
    "    model.add(MaxPooling2D(pool_size=(2, 2)))\n",
    "    model.add(Dropout(0.3))\n",
    "    \n",
    "#     model.add(Conv2D(48, (2, 2), padding='same', activation='selu'))\n",
    "#     model.add(Conv2D(48, (4, 4), activation='relu'))\n",
    "#     model.add(MaxPooling2D(pool_size=(2, 2)))\n",
    "#     model.add(Dropout(0.3))\n",
    "    \n",
    "#     model.add(Conv2D(64, (3, 3), padding='same', activation='relu'))\n",
    "#     model.add(Conv2D(64, (3, 3), activation='selu'))\n",
    "#     model.add(MaxPooling2D(pool_size=(2, 2)))\n",
    "#     model.add(Dropout(0.3))\n",
    " \n",
    "    model.add(Flatten())\n",
    "#     model.add(Dense(500, activation='selu'))\n",
    "#     model.add(Dropout(0.8))\n",
    "#     model.add(Dense(300, activation='relu'))\n",
    "#     model.add(Dropout(0.4))\n",
    "    model.add(Dense(nClasses, activation='softmax'))\n",
    "     \n",
    "    return model"
   ]
  },
  {
   "cell_type": "code",
   "execution_count": null,
   "metadata": {},
   "outputs": [],
   "source": []
  },
  {
   "cell_type": "code",
   "execution_count": 7,
   "metadata": {},
   "outputs": [],
   "source": [
    "## Train Parameters\n",
    "\n",
    "epochs = 50\n",
    "batch_size = 1000\n",
    "\n",
    "###\n",
    "\n",
    "output_model = createModel(Input_train.shape[1:], NUM_OF_CLASS)\n",
    "output_model.compile(optimizer='adadelta', loss='categorical_crossentropy', metrics=['accuracy'])"
   ]
  },
  {
   "cell_type": "code",
   "execution_count": 8,
   "metadata": {},
   "outputs": [
    {
     "name": "stdout",
     "output_type": "stream",
     "text": [
      "_________________________________________________________________\n",
      "Layer (type)                 Output Shape              Param #   \n",
      "=================================================================\n",
      "conv2d_1 (Conv2D)            (None, 28, 28, 20)        100       \n",
      "_________________________________________________________________\n",
      "conv2d_2 (Conv2D)            (None, 27, 27, 10)        810       \n",
      "_________________________________________________________________\n",
      "max_pooling2d_1 (MaxPooling2 (None, 13, 13, 10)        0         \n",
      "_________________________________________________________________\n",
      "dropout_1 (Dropout)          (None, 13, 13, 10)        0         \n",
      "_________________________________________________________________\n",
      "flatten_1 (Flatten)          (None, 1690)              0         \n",
      "_________________________________________________________________\n",
      "dense_1 (Dense)              (None, 10)                16910     \n",
      "=================================================================\n",
      "Total params: 17,820\n",
      "Trainable params: 17,820\n",
      "Non-trainable params: 0\n",
      "_________________________________________________________________\n"
     ]
    }
   ],
   "source": [
    "output_model.summary()"
   ]
  },
  {
   "cell_type": "code",
   "execution_count": 9,
   "metadata": {
    "scrolled": false
   },
   "outputs": [
    {
     "name": "stdout",
     "output_type": "stream",
     "text": [
      "Train on 60000 samples, validate on 10000 samples\n",
      "Epoch 1/50\n",
      "60000/60000 [==============================] - 26s 438us/step - loss: 4.2532 - acc: 0.6919 - val_loss: 1.5445 - val_acc: 0.8842\n",
      "Epoch 2/50\n",
      "60000/60000 [==============================] - 26s 425us/step - loss: 1.5953 - acc: 0.8811 - val_loss: 0.9156 - val_acc: 0.9301\n",
      "Epoch 3/50\n",
      "60000/60000 [==============================] - 25s 423us/step - loss: 1.1133 - acc: 0.9132 - val_loss: 0.6647 - val_acc: 0.9465\n",
      "Epoch 4/50\n",
      "60000/60000 [==============================] - 96s 2ms/step - loss: 0.8178 - acc: 0.9316 - val_loss: 0.5367 - val_acc: 0.9531\n",
      "Epoch 5/50\n",
      "60000/60000 [==============================] - 54s 907us/step - loss: 0.6286 - acc: 0.9433 - val_loss: 0.3989 - val_acc: 0.9600\n",
      "Epoch 6/50\n",
      "60000/60000 [==============================] - 69s 1ms/step - loss: 0.4809 - acc: 0.9503 - val_loss: 0.3045 - val_acc: 0.9658\n",
      "Epoch 7/50\n",
      "60000/60000 [==============================] - 149s 2ms/step - loss: 0.3610 - acc: 0.9543 - val_loss: 0.2249 - val_acc: 0.9698\n",
      "Epoch 8/50\n",
      "60000/60000 [==============================] - 77s 1ms/step - loss: 0.2485 - acc: 0.9587 - val_loss: 0.1494 - val_acc: 0.9709\n",
      "Epoch 9/50\n",
      "60000/60000 [==============================] - 51s 842us/step - loss: 0.1701 - acc: 0.9622 - val_loss: 0.1108 - val_acc: 0.9725\n",
      "Epoch 10/50\n",
      "60000/60000 [==============================] - 146s 2ms/step - loss: 0.1301 - acc: 0.9666 - val_loss: 0.0992 - val_acc: 0.9745\n",
      "Epoch 11/50\n",
      "60000/60000 [==============================] - 97s 2ms/step - loss: 0.1067 - acc: 0.9711 - val_loss: 0.0817 - val_acc: 0.9771\n",
      "Epoch 12/50\n",
      "60000/60000 [==============================] - 32s 526us/step - loss: 0.0896 - acc: 0.9743 - val_loss: 0.0773 - val_acc: 0.9788\n",
      "Epoch 13/50\n",
      "60000/60000 [==============================] - 140s 2ms/step - loss: 0.0822 - acc: 0.9768 - val_loss: 0.0685 - val_acc: 0.9811\n",
      "Epoch 14/50\n",
      "60000/60000 [==============================] - 124s 2ms/step - loss: 0.0752 - acc: 0.9779 - val_loss: 0.0724 - val_acc: 0.9801\n",
      "Epoch 15/50\n",
      "60000/60000 [==============================] - 25s 424us/step - loss: 0.0646 - acc: 0.9813 - val_loss: 0.0760 - val_acc: 0.9794\n",
      "Epoch 16/50\n",
      "60000/60000 [==============================] - 125s 2ms/step - loss: 0.0641 - acc: 0.9806 - val_loss: 0.0686 - val_acc: 0.9828\n",
      "Epoch 17/50\n",
      "60000/60000 [==============================] - 145s 2ms/step - loss: 0.0631 - acc: 0.9813 - val_loss: 0.0695 - val_acc: 0.9821\n",
      "Epoch 18/50\n",
      "60000/60000 [==============================] - 25s 422us/step - loss: 0.0561 - acc: 0.9827 - val_loss: 0.0782 - val_acc: 0.9787\n",
      "Epoch 19/50\n",
      "60000/60000 [==============================] - 100s 2ms/step - loss: 0.0562 - acc: 0.9838 - val_loss: 0.0688 - val_acc: 0.9826\n",
      "Epoch 20/50\n",
      "60000/60000 [==============================] - 147s 2ms/step - loss: 0.0503 - acc: 0.9847 - val_loss: 0.0707 - val_acc: 0.9822\n",
      "Epoch 21/50\n",
      "60000/60000 [==============================] - 48s 795us/step - loss: 0.0472 - acc: 0.9853 - val_loss: 0.0665 - val_acc: 0.9832\n",
      "Epoch 22/50\n",
      "60000/60000 [==============================] - 82s 1ms/step - loss: 0.0452 - acc: 0.9855 - val_loss: 0.0613 - val_acc: 0.9840\n",
      "Epoch 23/50\n",
      "60000/60000 [==============================] - 147s 2ms/step - loss: 0.0453 - acc: 0.9852 - val_loss: 0.0637 - val_acc: 0.9837\n",
      "Epoch 24/50\n",
      "60000/60000 [==============================] - 67s 1ms/step - loss: 0.0446 - acc: 0.9861 - val_loss: 0.0673 - val_acc: 0.9827\n",
      "Epoch 25/50\n",
      "60000/60000 [==============================] - 54s 906us/step - loss: 0.0417 - acc: 0.9869 - val_loss: 0.0659 - val_acc: 0.9825\n",
      "Epoch 26/50\n",
      "60000/60000 [==============================] - 149s 2ms/step - loss: 0.0377 - acc: 0.9882 - val_loss: 0.0654 - val_acc: 0.9836\n",
      "Epoch 27/50\n",
      "60000/60000 [==============================] - 93s 2ms/step - loss: 0.0418 - acc: 0.9872 - val_loss: 0.0618 - val_acc: 0.9848\n",
      "Epoch 28/50\n",
      "60000/60000 [==============================] - 36s 592us/step - loss: 0.0376 - acc: 0.9879 - val_loss: 0.0649 - val_acc: 0.9838\n",
      "Epoch 29/50\n",
      "60000/60000 [==============================] - 146s 2ms/step - loss: 0.0413 - acc: 0.9871 - val_loss: 0.0662 - val_acc: 0.9845\n",
      "Epoch 30/50\n",
      "60000/60000 [==============================] - 112s 2ms/step - loss: 0.0377 - acc: 0.9876 - val_loss: 0.0631 - val_acc: 0.9849\n",
      "Epoch 31/50\n",
      "60000/60000 [==============================] - 27s 456us/step - loss: 0.0358 - acc: 0.9884 - val_loss: 0.0617 - val_acc: 0.9859\n",
      "Epoch 32/50\n",
      "60000/60000 [==============================] - 129s 2ms/step - loss: 0.0364 - acc: 0.9888 - val_loss: 0.0824 - val_acc: 0.9808\n",
      "Epoch 33/50\n",
      "60000/60000 [==============================] - 139s 2ms/step - loss: 0.0345 - acc: 0.9887 - val_loss: 0.0932 - val_acc: 0.9784\n",
      "Epoch 34/50\n",
      "60000/60000 [==============================] - 25s 422us/step - loss: 0.0349 - acc: 0.9890 - val_loss: 0.0691 - val_acc: 0.9837\n",
      "Epoch 35/50\n",
      "60000/60000 [==============================] - 111s 2ms/step - loss: 0.0352 - acc: 0.9889 - val_loss: 0.0763 - val_acc: 0.9827\n",
      "Epoch 36/50\n",
      "60000/60000 [==============================] - 144s 2ms/step - loss: 0.0344 - acc: 0.9886 - val_loss: 0.0737 - val_acc: 0.9843\n",
      "Epoch 37/50\n",
      "60000/60000 [==============================] - 41s 677us/step - loss: 0.0356 - acc: 0.9890 - val_loss: 0.0680 - val_acc: 0.9847\n",
      "Epoch 38/50\n",
      "60000/60000 [==============================] - 84s 1ms/step - loss: 0.0353 - acc: 0.9889 - val_loss: 0.0795 - val_acc: 0.9827\n",
      "Epoch 39/50\n",
      "60000/60000 [==============================] - 146s 2ms/step - loss: 0.0337 - acc: 0.9897 - val_loss: 0.0695 - val_acc: 0.9850\n",
      "Epoch 40/50\n",
      "60000/60000 [==============================] - 63s 1ms/step - loss: 0.0347 - acc: 0.9889 - val_loss: 0.0758 - val_acc: 0.9847\n",
      "Epoch 41/50\n",
      "60000/60000 [==============================] - 65s 1ms/step - loss: 0.0302 - acc: 0.9904 - val_loss: 0.0721 - val_acc: 0.9842\n",
      "Epoch 42/50\n",
      "60000/60000 [==============================] - 145s 2ms/step - loss: 0.0306 - acc: 0.9899 - val_loss: 0.0738 - val_acc: 0.9833\n",
      "Epoch 43/50\n",
      "60000/60000 [==============================] - 85s 1ms/step - loss: 0.0317 - acc: 0.9897 - val_loss: 0.0800 - val_acc: 0.9823\n",
      "Epoch 44/50\n",
      "60000/60000 [==============================] - 39s 650us/step - loss: 0.0312 - acc: 0.9901 - val_loss: 0.0702 - val_acc: 0.9851\n",
      "Epoch 45/50\n",
      "60000/60000 [==============================] - 146s 2ms/step - loss: 0.0292 - acc: 0.9903 - val_loss: 0.0779 - val_acc: 0.9843\n",
      "Epoch 46/50\n",
      "60000/60000 [==============================] - 110s 2ms/step - loss: 0.0319 - acc: 0.9903 - val_loss: 0.0727 - val_acc: 0.9838\n",
      "Epoch 47/50\n",
      "60000/60000 [==============================] - 27s 445us/step - loss: 0.0308 - acc: 0.9906 - val_loss: 0.0701 - val_acc: 0.9845\n",
      "Epoch 48/50\n",
      "60000/60000 [==============================] - 138s 2ms/step - loss: 0.0290 - acc: 0.9910 - val_loss: 0.0759 - val_acc: 0.9838\n",
      "Epoch 49/50\n",
      "60000/60000 [==============================] - 130s 2ms/step - loss: 0.0317 - acc: 0.9895 - val_loss: 0.0753 - val_acc: 0.9844\n",
      "Epoch 50/50\n",
      "60000/60000 [==============================] - 25s 424us/step - loss: 0.0308 - acc: 0.9897 - val_loss: 0.0811 - val_acc: 0.9838\n"
     ]
    }
   ],
   "source": [
    "history = output_model.fit(Input_train, Objetive_train, batch_size=batch_size, epochs=epochs, verbose=VERBOSE, \n",
    "                       validation_data=(Input_test, Objetive_test))"
   ]
  },
  {
   "cell_type": "code",
   "execution_count": 10,
   "metadata": {},
   "outputs": [
    {
     "name": "stdout",
     "output_type": "stream",
     "text": [
      "10000/10000 [==============================] - 4s 366us/step\n"
     ]
    },
    {
     "data": {
      "text/plain": [
       "[0.08109750577758577, 0.9838]"
      ]
     },
     "execution_count": 10,
     "metadata": {},
     "output_type": "execute_result"
    }
   ],
   "source": [
    "output_model.evaluate(Input_test, Objetive_test)"
   ]
  },
  {
   "cell_type": "code",
   "execution_count": 11,
   "metadata": {},
   "outputs": [
    {
     "data": {
      "image/png": "[encoded data removed]",
      "text/plain": [
       "<Figure size 576x432 with 1 Axes>"
      ]
     },
     "metadata": {},
     "output_type": "display_data"
    },
    {
     "data": {
      "image/png": "[encoded data removed]",
      "text/plain": [
       "<Figure size 576x432 with 1 Axes>"
      ]
     },
     "metadata": {},
     "output_type": "display_data"
    }
   ],
   "source": [
    "if PLOT:\n",
    "    ## Plots\n",
    "    # Loss Curves\n",
    "    plt.figure(figsize=[8,6])\n",
    "    plt.plot(history.history['loss'],'.r')\n",
    "    plt.plot(history.history['val_loss'],'.b')\n",
    "    plt.plot(history.history['loss'],'--y')\n",
    "    plt.plot(history.history['val_loss'],'--g')\n",
    "    plt.legend(['Training loss', 'Validation Loss'],fontsize=18)\n",
    "    plt.xlabel('Epochs ',fontsize=16)\n",
    "    plt.ylabel('Loss',fontsize=16)\n",
    "    plt.title('Loss Curves',fontsize=16)\n",
    "    plt.show()\n",
    "\n",
    "    # Accuracy Curves\n",
    "    plt.figure(figsize=[8,6])\n",
    "    plt.plot(history.history['acc'],'.r')\n",
    "    plt.plot(history.history['val_acc'],'.b')\n",
    "    plt.plot(history.history['acc'],'--y')\n",
    "    plt.plot(history.history['val_acc'],'--g')\n",
    "    plt.legend(['Training Accuracy', 'Validation Accuracy'],fontsize=18)\n",
    "    plt.xlabel('Epochs ',fontsize=16)\n",
    "    plt.ylabel('Accuracy',fontsize=16)\n",
    "    plt.title('Accuracy Curves',fontsize=16)\n",
    "    plt.show()"
   ]
  },
  {
   "cell_type": "code",
   "execution_count": 12,
   "metadata": {},
   "outputs": [],
   "source": [
    "output_model.save(filepath=\"./mnist_model_v2\", include_optimizer=1)"
   ]
  },
  {
   "cell_type": "code",
   "execution_count": null,
   "metadata": {},
   "outputs": [],
   "source": []
  },
  {
   "cell_type": "code",
   "execution_count": null,
   "metadata": {},
   "outputs": [],
   "source": []
  },
  {
   "cell_type": "code",
   "execution_count": null,
   "metadata": {},
   "outputs": [],
   "source": []
  }
 ],
 "metadata": {
  "kernelspec": {
   "display_name": "Environment (conda_tensorflow_p36)",
   "language": "python",
   "name": "conda_tensorflow_p36"
  },
  "language_info": {
   "codemirror_mode": {
    "name": "ipython",
    "version": 3
   },
   "file_extension": ".py",
   "mimetype": "text/x-python",
   "name": "python",
   "nbconvert_exporter": "python",
   "pygments_lexer": "ipython3",
   "version": "3.6.5"
  }
 },
 "nbformat": 4,
 "nbformat_minor": 2
}
