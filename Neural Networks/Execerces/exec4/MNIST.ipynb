{
 "cells": [
  {
   "cell_type": "code",
   "execution_count": 12,
   "metadata": {},
   "outputs": [],
   "source": [
    "from matplotlib import pyplot as plt\n",
    "import numpy as np\n",
    "import pandas as pd\n",
    "\n",
    "from copy import copy as copy\n",
    "\n",
    "import os\n",
    "import sys\n",
    "\n",
    "import pprint\n",
    "\n",
    "from keras.datasets import mnist"
   ]
  },
  {
   "cell_type": "code",
   "execution_count": 13,
   "metadata": {},
   "outputs": [],
   "source": [
    "PLOT = True\n",
    "NUM_OF_CLASS = 10\n",
    "VERBOSE = True"
   ]
  },
  {
   "cell_type": "code",
   "execution_count": 14,
   "metadata": {},
   "outputs": [],
   "source": [
    "from keras.models import Sequential\n",
    "from keras.layers import Dense, Conv2D, MaxPooling2D, Dropout, Flatten\n",
    "\n",
    "import keras.utils"
   ]
  },
  {
   "cell_type": "code",
   "execution_count": null,
   "metadata": {},
   "outputs": [],
   "source": []
  },
  {
   "cell_type": "code",
   "execution_count": 15,
   "metadata": {},
   "outputs": [
    {
     "name": "stdout",
     "output_type": "stream",
     "text": [
      "Input_train shape: (60000, 28, 28, 1)\n",
      "60000 train samples\n",
      "10000 test samples\n"
     ]
    }
   ],
   "source": [
    "# The data, split between train and test sets:\n",
    "(Input_train, Objetive_train), (Input_test, Objetive_test) = mnist.load_data()\n",
    "\n",
    "Input_train = Input_train.reshape(tuple(list(Input_train.shape) + [1]))\n",
    "Input_test = Input_test.reshape(tuple(list(Input_test.shape) + [1]))\n",
    "\n",
    "print('Input_train shape:', Input_train.shape)\n",
    "print(Input_train.shape[0], 'train samples')\n",
    "print(Input_test.shape[0], 'test samples')"
   ]
  },
  {
   "cell_type": "code",
   "execution_count": 16,
   "metadata": {},
   "outputs": [],
   "source": [
    "# Convert class vectors to binary class matrices.\n",
    "Objetive_train = keras.utils.to_categorical(Objetive_train, NUM_OF_CLASS)\n",
    "Objetive_test = keras.utils.to_categorical(Objetive_test, NUM_OF_CLASS)"
   ]
  },
  {
   "cell_type": "code",
   "execution_count": 17,
   "metadata": {},
   "outputs": [],
   "source": [
    "#Architecture\n",
    "def createModel(input_shape, nClasses):\n",
    "    model = Sequential()\n",
    "    \n",
    "    model.add(Conv2D(32, (2, 2), padding='same', activation='relu', input_shape=input_shape))\n",
    "    model.add(Conv2D(28, (3, 3), activation='selu'))\n",
    "    model.add(MaxPooling2D(pool_size=(2, 2)))\n",
    "    model.add(Dropout(0.3))\n",
    " \n",
    "#     model.add(Conv2D(48, (2, 2), padding='same', activation='selu'))\n",
    "#     model.add(Conv2D(48, (4, 4), activation='relu'))\n",
    "#     model.add(MaxPooling2D(pool_size=(2, 2)))\n",
    "#     model.add(Dropout(0.3))\n",
    "    \n",
    "#     model.add(Conv2D(64, (3, 3), padding='same', activation='relu'))\n",
    "#     model.add(Conv2D(64, (3, 3), activation='selu'))\n",
    "#     model.add(MaxPooling2D(pool_size=(2, 2)))\n",
    "#     model.add(Dropout(0.3))\n",
    " \n",
    "    model.add(Flatten())\n",
    "#     model.add(Dense(500, activation='selu'))\n",
    "#     model.add(Dropout(0.8))\n",
    "#     model.add(Dense(300, activation='relu'))\n",
    "#     model.add(Dropout(0.4))\n",
    "    model.add(Dense(nClasses, activation='softmax'))\n",
    "     \n",
    "    return model"
   ]
  },
  {
   "cell_type": "code",
   "execution_count": null,
   "metadata": {},
   "outputs": [],
   "source": []
  },
  {
   "cell_type": "code",
   "execution_count": 18,
   "metadata": {},
   "outputs": [],
   "source": [
    "## Train Parameters\n",
    "\n",
    "epochs = 50\n",
    "batch_size = 500\n",
    "\n",
    "###\n",
    "\n",
    "output_model = createModel(Input_train.shape[1:], NUM_OF_CLASS)\n",
    "output_model.compile(optimizer='adadelta', loss='categorical_crossentropy', metrics=['accuracy'])"
   ]
  },
  {
   "cell_type": "code",
   "execution_count": 19,
   "metadata": {},
   "outputs": [
    {
     "name": "stdout",
     "output_type": "stream",
     "text": [
      "_________________________________________________________________\n",
      "Layer (type)                 Output Shape              Param #   \n",
      "=================================================================\n",
      "conv2d_3 (Conv2D)            (None, 28, 28, 28)        280       \n",
      "_________________________________________________________________\n",
      "conv2d_4 (Conv2D)            (None, 27, 27, 14)        1582      \n",
      "_________________________________________________________________\n",
      "max_pooling2d_2 (MaxPooling2 (None, 13, 13, 14)        0         \n",
      "_________________________________________________________________\n",
      "dropout_2 (Dropout)          (None, 13, 13, 14)        0         \n",
      "_________________________________________________________________\n",
      "flatten_2 (Flatten)          (None, 2366)              0         \n",
      "_________________________________________________________________\n",
      "dense_2 (Dense)              (None, 10)                23670     \n",
      "=================================================================\n",
      "Total params: 25,532\n",
      "Trainable params: 25,532\n",
      "Non-trainable params: 0\n",
      "_________________________________________________________________\n"
     ]
    }
   ],
   "source": [
    "output_model.summary()"
   ]
  },
  {
   "cell_type": "code",
   "execution_count": 20,
   "metadata": {
    "scrolled": false
   },
   "outputs": [
    {
     "name": "stdout",
     "output_type": "stream",
     "text": [
      "Train on 60000 samples, validate on 10000 samples\n",
      "Epoch 1/50\n",
      "60000/60000 [==============================] - 38s 641us/step - loss: 1.2502 - acc: 0.8328 - val_loss: 0.1336 - val_acc: 0.9608\n",
      "Epoch 2/50\n",
      "60000/60000 [==============================] - 38s 632us/step - loss: 0.1773 - acc: 0.9484 - val_loss: 0.0784 - val_acc: 0.9776\n",
      "Epoch 3/50\n",
      "60000/60000 [==============================] - 39s 646us/step - loss: 0.1219 - acc: 0.9637 - val_loss: 0.0680 - val_acc: 0.9808\n",
      "Epoch 4/50\n",
      "60000/60000 [==============================] - 38s 629us/step - loss: 0.0939 - acc: 0.9726 - val_loss: 0.0578 - val_acc: 0.9830\n",
      "Epoch 5/50\n",
      "60000/60000 [==============================] - 38s 627us/step - loss: 0.0787 - acc: 0.9768 - val_loss: 0.0615 - val_acc: 0.9812\n",
      "Epoch 6/50\n",
      "60000/60000 [==============================] - 38s 627us/step - loss: 0.0680 - acc: 0.9791 - val_loss: 0.0551 - val_acc: 0.9844\n",
      "Epoch 7/50\n",
      "60000/60000 [==============================] - 39s 651us/step - loss: 0.0615 - acc: 0.9808 - val_loss: 0.0629 - val_acc: 0.9822\n",
      "Epoch 8/50\n",
      "60000/60000 [==============================] - 38s 626us/step - loss: 0.0560 - acc: 0.9833 - val_loss: 0.0477 - val_acc: 0.9856\n",
      "Epoch 9/50\n",
      "60000/60000 [==============================] - 38s 626us/step - loss: 0.0508 - acc: 0.9847 - val_loss: 0.0480 - val_acc: 0.9861\n",
      "Epoch 10/50\n",
      "60000/60000 [==============================] - 38s 628us/step - loss: 0.0464 - acc: 0.9858 - val_loss: 0.0532 - val_acc: 0.9850\n",
      "Epoch 11/50\n",
      "60000/60000 [==============================] - 38s 627us/step - loss: 0.0449 - acc: 0.9862 - val_loss: 0.0498 - val_acc: 0.9859\n",
      "Epoch 12/50\n",
      "60000/60000 [==============================] - 39s 651us/step - loss: 0.0443 - acc: 0.9859 - val_loss: 0.0488 - val_acc: 0.9863\n",
      "Epoch 13/50\n",
      "60000/60000 [==============================] - 38s 629us/step - loss: 0.0389 - acc: 0.9873 - val_loss: 0.0490 - val_acc: 0.9858\n",
      "Epoch 14/50\n",
      "60000/60000 [==============================] - 38s 627us/step - loss: 0.0403 - acc: 0.9874 - val_loss: 0.0501 - val_acc: 0.9864\n",
      "Epoch 15/50\n",
      "60000/60000 [==============================] - 38s 627us/step - loss: 0.0386 - acc: 0.9873 - val_loss: 0.0475 - val_acc: 0.9864\n",
      "Epoch 16/50\n",
      "60000/60000 [==============================] - 38s 627us/step - loss: 0.0360 - acc: 0.9883 - val_loss: 0.0457 - val_acc: 0.9871\n",
      "Epoch 17/50\n",
      "60000/60000 [==============================] - 39s 649us/step - loss: 0.0329 - acc: 0.9895 - val_loss: 0.0439 - val_acc: 0.9864\n",
      "Epoch 18/50\n",
      "60000/60000 [==============================] - 38s 626us/step - loss: 0.0329 - acc: 0.9893 - val_loss: 0.0465 - val_acc: 0.9878\n",
      "Epoch 19/50\n",
      "60000/60000 [==============================] - 38s 627us/step - loss: 0.0314 - acc: 0.9903 - val_loss: 0.0455 - val_acc: 0.9879\n",
      "Epoch 20/50\n",
      "60000/60000 [==============================] - 38s 626us/step - loss: 0.0314 - acc: 0.9903 - val_loss: 0.0456 - val_acc: 0.9871\n",
      "Epoch 21/50\n",
      "60000/60000 [==============================] - 38s 635us/step - loss: 0.0301 - acc: 0.9904 - val_loss: 0.0531 - val_acc: 0.9866\n",
      "Epoch 22/50\n",
      "60000/60000 [==============================] - 39s 642us/step - loss: 0.0307 - acc: 0.9902 - val_loss: 0.0515 - val_acc: 0.9867\n",
      "Epoch 23/50\n",
      "60000/60000 [==============================] - 38s 627us/step - loss: 0.0285 - acc: 0.9903 - val_loss: 0.0494 - val_acc: 0.9877\n",
      "Epoch 24/50\n",
      "60000/60000 [==============================] - 38s 627us/step - loss: 0.0284 - acc: 0.9910 - val_loss: 0.0558 - val_acc: 0.9874\n",
      "Epoch 25/50\n",
      "60000/60000 [==============================] - 38s 626us/step - loss: 0.0288 - acc: 0.9910 - val_loss: 0.0518 - val_acc: 0.9868\n",
      "Epoch 26/50\n",
      "60000/60000 [==============================] - 39s 650us/step - loss: 0.0261 - acc: 0.9919 - val_loss: 0.0538 - val_acc: 0.9874\n",
      "Epoch 27/50\n",
      "60000/60000 [==============================] - 38s 629us/step - loss: 0.0278 - acc: 0.9908 - val_loss: 0.0529 - val_acc: 0.9868\n",
      "Epoch 28/50\n",
      "60000/60000 [==============================] - 38s 628us/step - loss: 0.0260 - acc: 0.9915 - val_loss: 0.0545 - val_acc: 0.9863\n",
      "Epoch 29/50\n",
      "60000/60000 [==============================] - 38s 630us/step - loss: 0.0264 - acc: 0.9914 - val_loss: 0.0589 - val_acc: 0.9865\n",
      "Epoch 30/50\n",
      "60000/60000 [==============================] - 38s 626us/step - loss: 0.0263 - acc: 0.9915 - val_loss: 0.0503 - val_acc: 0.9873\n",
      "Epoch 31/50\n",
      "60000/60000 [==============================] - 39s 649us/step - loss: 0.0257 - acc: 0.9920 - val_loss: 0.0555 - val_acc: 0.9875\n",
      "Epoch 32/50\n",
      "60000/60000 [==============================] - 38s 629us/step - loss: 0.0255 - acc: 0.9919 - val_loss: 0.0510 - val_acc: 0.9875\n",
      "Epoch 33/50\n",
      "60000/60000 [==============================] - 38s 628us/step - loss: 0.0251 - acc: 0.9920 - val_loss: 0.0522 - val_acc: 0.9883\n",
      "Epoch 34/50\n",
      "60000/60000 [==============================] - 38s 626us/step - loss: 0.0229 - acc: 0.9925 - val_loss: 0.0551 - val_acc: 0.9874\n",
      "Epoch 35/50\n",
      "60000/60000 [==============================] - 38s 627us/step - loss: 0.0228 - acc: 0.9927 - val_loss: 0.0568 - val_acc: 0.9878\n",
      "Epoch 36/50\n",
      "60000/60000 [==============================] - 39s 649us/step - loss: 0.0255 - acc: 0.9920 - val_loss: 0.0559 - val_acc: 0.9861\n",
      "Epoch 37/50\n",
      "60000/60000 [==============================] - 38s 626us/step - loss: 0.0255 - acc: 0.9913 - val_loss: 0.0620 - val_acc: 0.9869\n",
      "Epoch 38/50\n",
      "60000/60000 [==============================] - 38s 626us/step - loss: 0.0235 - acc: 0.9928 - val_loss: 0.0617 - val_acc: 0.9874\n",
      "Epoch 39/50\n",
      "60000/60000 [==============================] - 38s 627us/step - loss: 0.0223 - acc: 0.9929 - val_loss: 0.0534 - val_acc: 0.9868\n",
      "Epoch 40/50\n",
      "60000/60000 [==============================] - 38s 636us/step - loss: 0.0226 - acc: 0.9930 - val_loss: 0.0569 - val_acc: 0.9863\n",
      "Epoch 41/50\n",
      "60000/60000 [==============================] - 38s 640us/step - loss: 0.0241 - acc: 0.9929 - val_loss: 0.0565 - val_acc: 0.9871\n",
      "Epoch 42/50\n",
      "60000/60000 [==============================] - 38s 626us/step - loss: 0.0235 - acc: 0.9930 - val_loss: 0.0569 - val_acc: 0.9875\n",
      "Epoch 43/50\n",
      "60000/60000 [==============================] - 38s 626us/step - loss: 0.0206 - acc: 0.9934 - val_loss: 0.0565 - val_acc: 0.9875\n",
      "Epoch 44/50\n",
      "60000/60000 [==============================] - 38s 627us/step - loss: 0.0214 - acc: 0.9934 - val_loss: 0.0571 - val_acc: 0.9874\n",
      "Epoch 45/50\n",
      "60000/60000 [==============================] - 39s 651us/step - loss: 0.0234 - acc: 0.9931 - val_loss: 0.0600 - val_acc: 0.9870\n",
      "Epoch 46/50\n",
      "60000/60000 [==============================] - 38s 627us/step - loss: 0.0223 - acc: 0.9933 - val_loss: 0.0635 - val_acc: 0.9861\n",
      "Epoch 47/50\n",
      "60000/60000 [==============================] - 38s 627us/step - loss: 0.0235 - acc: 0.9927 - val_loss: 0.0569 - val_acc: 0.9878\n",
      "Epoch 48/50\n",
      "60000/60000 [==============================] - 38s 630us/step - loss: 0.0209 - acc: 0.9934 - val_loss: 0.0672 - val_acc: 0.9854\n",
      "Epoch 49/50\n",
      "60000/60000 [==============================] - 38s 627us/step - loss: 0.0212 - acc: 0.9934 - val_loss: 0.0579 - val_acc: 0.9879\n",
      "Epoch 50/50\n",
      "60000/60000 [==============================] - 39s 650us/step - loss: 0.0214 - acc: 0.9932 - val_loss: 0.0579 - val_acc: 0.9880\n"
     ]
    }
   ],
   "source": [
    "history = output_model.fit(Input_train, Objetive_train, batch_size=batch_size, epochs=epochs, verbose=VERBOSE, \n",
    "                       validation_data=(Input_test, Objetive_test))"
   ]
  },
  {
   "cell_type": "code",
   "execution_count": 21,
   "metadata": {},
   "outputs": [
    {
     "name": "stdout",
     "output_type": "stream",
     "text": [
      "10000/10000 [==============================] - 3s 299us/step\n"
     ]
    },
    {
     "data": {
      "text/plain": [
       "[0.057943143819275886, 0.988]"
      ]
     },
     "execution_count": 21,
     "metadata": {},
     "output_type": "execute_result"
    }
   ],
   "source": [
    "output_model.evaluate(Input_test, Objetive_test)"
   ]
  },
  {
   "cell_type": "code",
   "execution_count": 22,
   "metadata": {},
   "outputs": [
    {
     "data": {
      "image/png": "[encoded data removed]",
      "text/plain": [
       "<Figure size 576x432 with 1 Axes>"
      ]
     },
     "metadata": {},
     "output_type": "display_data"
    },
    {
     "data": {
      "image/png": "[encoded data removed]",
      "text/plain": [
       "<Figure size 576x432 with 1 Axes>"
      ]
     },
     "metadata": {},
     "output_type": "display_data"
    }
   ],
   "source": [
    "if PLOT:\n",
    "    ## Plots\n",
    "    # Loss Curves\n",
    "    plt.figure(figsize=[8,6])\n",
    "    plt.plot(history.history['loss'],'.r')\n",
    "    plt.plot(history.history['val_loss'],'.b')\n",
    "    plt.plot(history.history['loss'],'--y')\n",
    "    plt.plot(history.history['val_loss'],'--g')\n",
    "    plt.legend(['Training loss', 'Validation Loss'],fontsize=18)\n",
    "    plt.xlabel('Epochs ',fontsize=16)\n",
    "    plt.ylabel('Loss',fontsize=16)\n",
    "    plt.title('Loss Curves',fontsize=16)\n",
    "    plt.show()\n",
    "\n",
    "    # Accuracy Curves\n",
    "    plt.figure(figsize=[8,6])\n",
    "    plt.plot(history.history['acc'],'.r')\n",
    "    plt.plot(history.history['val_acc'],'.b')\n",
    "    plt.plot(history.history['acc'],'--y')\n",
    "    plt.plot(history.history['val_acc'],'--g')\n",
    "    plt.legend(['Training Accuracy', 'Validation Accuracy'],fontsize=18)\n",
    "    plt.xlabel('Epochs ',fontsize=16)\n",
    "    plt.ylabel('Accuracy',fontsize=16)\n",
    "    plt.title('Accuracy Curves',fontsize=16)\n",
    "    plt.show()"
   ]
  },
  {
   "cell_type": "code",
   "execution_count": 23,
   "metadata": {},
   "outputs": [],
   "source": [
    "output_model.save(filepath=\"./mnist_model_v1\", include_optimizer=1)"
   ]
  },
  {
   "cell_type": "code",
   "execution_count": null,
   "metadata": {},
   "outputs": [],
   "source": []
  },
  {
   "cell_type": "code",
   "execution_count": null,
   "metadata": {},
   "outputs": [],
   "source": []
  },
  {
   "cell_type": "code",
   "execution_count": null,
   "metadata": {},
   "outputs": [],
   "source": []
  }
 ],
 "metadata": {
  "kernelspec": {
   "display_name": "Environment (conda_tensorflow_p36)",
   "language": "python",
   "name": "conda_tensorflow_p36"
  },
  "language_info": {
   "codemirror_mode": {
    "name": "ipython",
    "version": 3
   },
   "file_extension": ".py",
   "mimetype": "text/x-python",
   "name": "python",
   "nbconvert_exporter": "python",
   "pygments_lexer": "ipython3",
   "version": "3.6.5"
  }
 },
 "nbformat": 4,
 "nbformat_minor": 2
}
