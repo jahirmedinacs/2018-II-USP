{
 "cells": [
  {
   "cell_type": "code",
   "execution_count": 1,
   "metadata": {},
   "outputs": [
    {
     "name": "stderr",
     "output_type": "stream",
     "text": [
      "Using TensorFlow backend.\n"
     ]
    }
   ],
   "source": [
    "from matplotlib import pyplot as plt\n",
    "import numpy as np\n",
    "import pandas as pd\n",
    "\n",
    "from copy import copy as copy\n",
    "\n",
    "import os\n",
    "import sys\n",
    "\n",
    "import pprint\n",
    "\n",
    "from keras.datasets import mnist as __mnist"
   ]
  },
  {
   "cell_type": "code",
   "execution_count": 2,
   "metadata": {},
   "outputs": [],
   "source": [
    "PLOT = True\n",
    "NUM_OF_CLASS = 10\n",
    "VERBOSE = True"
   ]
  },
  {
   "cell_type": "code",
   "execution_count": 3,
   "metadata": {},
   "outputs": [],
   "source": [
    "mnist = __mnist.load_data()"
   ]
  },
  {
   "cell_type": "code",
   "execution_count": 4,
   "metadata": {},
   "outputs": [],
   "source": [
    "from keras.models import Sequential\n",
    "from keras.layers import Dense, Conv2D, MaxPooling2D, Dropout, Flatten\n",
    "\n",
    "import keras.utils"
   ]
  },
  {
   "cell_type": "code",
   "execution_count": null,
   "metadata": {},
   "outputs": [],
   "source": []
  },
  {
   "cell_type": "code",
   "execution_count": 5,
   "metadata": {},
   "outputs": [
    {
     "name": "stdout",
     "output_type": "stream",
     "text": [
      "Input_train shape: (60000, 28, 28, 1)\n",
      "60000 train samples\n",
      "10000 test samples\n"
     ]
    }
   ],
   "source": [
    "# The data, split between train and test sets:\n",
    "(Input_train, Objetive_train), (Input_test, Objetive_test) = mnist\n",
    "\n",
    "Input_train = Input_train.reshape(tuple(list(Input_train.shape) + [1]))\n",
    "Input_test = Input_test.reshape(tuple(list(Input_test.shape) + [1]))\n",
    "\n",
    "print('Input_train shape:', Input_train.shape)\n",
    "print(Input_train.shape[0], 'train samples')\n",
    "print(Input_test.shape[0], 'test samples')"
   ]
  },
  {
   "cell_type": "code",
   "execution_count": 6,
   "metadata": {},
   "outputs": [],
   "source": [
    "# Convert class vectors to binary class matrices.\n",
    "Objetive_train = keras.utils.to_categorical(Objetive_train, NUM_OF_CLASS)\n",
    "Objetive_test = keras.utils.to_categorical(Objetive_test, NUM_OF_CLASS)"
   ]
  },
  {
   "cell_type": "code",
   "execution_count": 7,
   "metadata": {},
   "outputs": [],
   "source": [
    "#Architecture\n",
    "def createModel(input_shape, nClasses):\n",
    "    model = Sequential()\n",
    "    \n",
    "    model.add(Conv2D(36, (3, 3), padding='same', activation='relu', input_shape=input_shape))\n",
    "    model.add(Conv2D(36, (2, 2), activation='selu'))\n",
    "    model.add(MaxPooling2D(pool_size=(2, 2)))\n",
    "    model.add(Dropout(0.2))\n",
    " \n",
    "    model.add(Conv2D(48, (2, 2), padding='same', activation='selu'))\n",
    "    model.add(Conv2D(48, (4, 4), activation='relu'))\n",
    "    model.add(MaxPooling2D(pool_size=(2, 2)))\n",
    "    model.add(Dropout(0.3))\n",
    "    \n",
    "    model.add(Conv2D(64, (3, 3), padding='same', activation='relu'))\n",
    "    model.add(Conv2D(64, (3, 3), activation='selu'))\n",
    "    model.add(MaxPooling2D(pool_size=(2, 2)))\n",
    "    model.add(Dropout(0.3))\n",
    " \n",
    "    model.add(Flatten())\n",
    "    model.add(Dense(500, activation='selu'))\n",
    "    model.add(Dropout(0.8))\n",
    "    model.add(Dense(300, activation='relu'))\n",
    "    model.add(Dropout(0.4))\n",
    "    model.add(Dense(nClasses, activation='softmax'))\n",
    "     \n",
    "    return model"
   ]
  },
  {
   "cell_type": "code",
   "execution_count": null,
   "metadata": {},
   "outputs": [],
   "source": []
  },
  {
   "cell_type": "code",
   "execution_count": 8,
   "metadata": {},
   "outputs": [],
   "source": [
    "## Train Parameters\n",
    "\n",
    "epochs = 50\n",
    "batch_size = 1000\n",
    "\n",
    "###\n",
    "\n",
    "output_model = createModel(Input_train.shape[1:], NUM_OF_CLASS)\n",
    "output_model.compile(optimizer='adadelta', loss='categorical_crossentropy', metrics=['accuracy'])"
   ]
  },
  {
   "cell_type": "code",
   "execution_count": 9,
   "metadata": {},
   "outputs": [
    {
     "name": "stdout",
     "output_type": "stream",
     "text": [
      "_________________________________________________________________\n",
      "Layer (type)                 Output Shape              Param #   \n",
      "=================================================================\n",
      "conv2d_1 (Conv2D)            (None, 28, 28, 36)        360       \n",
      "_________________________________________________________________\n",
      "conv2d_2 (Conv2D)            (None, 27, 27, 36)        5220      \n",
      "_________________________________________________________________\n",
      "max_pooling2d_1 (MaxPooling2 (None, 13, 13, 36)        0         \n",
      "_________________________________________________________________\n",
      "dropout_1 (Dropout)          (None, 13, 13, 36)        0         \n",
      "_________________________________________________________________\n",
      "conv2d_3 (Conv2D)            (None, 13, 13, 48)        6960      \n",
      "_________________________________________________________________\n",
      "conv2d_4 (Conv2D)            (None, 10, 10, 48)        36912     \n",
      "_________________________________________________________________\n",
      "max_pooling2d_2 (MaxPooling2 (None, 5, 5, 48)          0         \n",
      "_________________________________________________________________\n",
      "dropout_2 (Dropout)          (None, 5, 5, 48)          0         \n",
      "_________________________________________________________________\n",
      "conv2d_5 (Conv2D)            (None, 5, 5, 64)          27712     \n",
      "_________________________________________________________________\n",
      "conv2d_6 (Conv2D)            (None, 3, 3, 64)          36928     \n",
      "_________________________________________________________________\n",
      "max_pooling2d_3 (MaxPooling2 (None, 1, 1, 64)          0         \n",
      "_________________________________________________________________\n",
      "dropout_3 (Dropout)          (None, 1, 1, 64)          0         \n",
      "_________________________________________________________________\n",
      "flatten_1 (Flatten)          (None, 64)                0         \n",
      "_________________________________________________________________\n",
      "dense_1 (Dense)              (None, 500)               32500     \n",
      "_________________________________________________________________\n",
      "dropout_4 (Dropout)          (None, 500)               0         \n",
      "_________________________________________________________________\n",
      "dense_2 (Dense)              (None, 300)               150300    \n",
      "_________________________________________________________________\n",
      "dropout_5 (Dropout)          (None, 300)               0         \n",
      "_________________________________________________________________\n",
      "dense_3 (Dense)              (None, 10)                3010      \n",
      "=================================================================\n",
      "Total params: 299,902\n",
      "Trainable params: 299,902\n",
      "Non-trainable params: 0\n",
      "_________________________________________________________________\n"
     ]
    }
   ],
   "source": [
    "output_model.summary()"
   ]
  },
  {
   "cell_type": "code",
   "execution_count": 10,
   "metadata": {},
   "outputs": [
    {
     "name": "stdout",
     "output_type": "stream",
     "text": [
      "Train on 60000 samples, validate on 10000 samples\n",
      "Epoch 1/50\n",
      "60000/60000 [==============================] - 113s 2ms/step - loss: 2.2441 - acc: 0.4109 - val_loss: 0.3923 - val_acc: 0.8894\n",
      "Epoch 2/50\n",
      "60000/60000 [==============================] - 109s 2ms/step - loss: 0.5551 - acc: 0.8283 - val_loss: 0.1442 - val_acc: 0.9533\n",
      "Epoch 3/50\n",
      "60000/60000 [==============================] - 111s 2ms/step - loss: 0.2816 - acc: 0.9168 - val_loss: 0.0875 - val_acc: 0.9709\n",
      "Epoch 4/50\n",
      "60000/60000 [==============================] - 111s 2ms/step - loss: 0.2163 - acc: 0.9381 - val_loss: 0.0618 - val_acc: 0.9804\n",
      "Epoch 5/50\n",
      "60000/60000 [==============================] - 109s 2ms/step - loss: 0.1624 - acc: 0.9533 - val_loss: 0.0463 - val_acc: 0.9839\n",
      "Epoch 6/50\n",
      "60000/60000 [==============================] - 111s 2ms/step - loss: 0.1269 - acc: 0.9635 - val_loss: 0.0395 - val_acc: 0.9869\n",
      "Epoch 7/50\n",
      "60000/60000 [==============================] - 109s 2ms/step - loss: 0.1060 - acc: 0.9701 - val_loss: 0.0343 - val_acc: 0.9896\n",
      "Epoch 8/50\n",
      "60000/60000 [==============================] - 111s 2ms/step - loss: 0.0962 - acc: 0.9734 - val_loss: 0.0301 - val_acc: 0.9906\n",
      "Epoch 9/50\n",
      "60000/60000 [==============================] - 110s 2ms/step - loss: 0.0822 - acc: 0.9766 - val_loss: 0.0265 - val_acc: 0.9914\n",
      "Epoch 10/50\n",
      "60000/60000 [==============================] - 109s 2ms/step - loss: 0.0802 - acc: 0.9778 - val_loss: 0.0263 - val_acc: 0.9919\n",
      "Epoch 11/50\n",
      "60000/60000 [==============================] - 110s 2ms/step - loss: 0.0668 - acc: 0.9815 - val_loss: 0.0258 - val_acc: 0.9923\n",
      "Epoch 12/50\n",
      "60000/60000 [==============================] - 109s 2ms/step - loss: 0.0681 - acc: 0.9817 - val_loss: 0.0343 - val_acc: 0.9898\n",
      "Epoch 13/50\n",
      "60000/60000 [==============================] - 110s 2ms/step - loss: 0.0601 - acc: 0.9830 - val_loss: 0.0248 - val_acc: 0.9923\n",
      "Epoch 14/50\n",
      "60000/60000 [==============================] - 110s 2ms/step - loss: 0.0537 - acc: 0.9846 - val_loss: 0.0285 - val_acc: 0.9910\n",
      "Epoch 15/50\n",
      "60000/60000 [==============================] - 109s 2ms/step - loss: 0.0529 - acc: 0.9845 - val_loss: 0.0260 - val_acc: 0.9923\n",
      "Epoch 16/50\n",
      "60000/60000 [==============================] - 110s 2ms/step - loss: 0.0511 - acc: 0.9861 - val_loss: 0.0305 - val_acc: 0.9907\n",
      "Epoch 17/50\n",
      "60000/60000 [==============================] - 111s 2ms/step - loss: 0.0472 - acc: 0.9870 - val_loss: 0.0208 - val_acc: 0.9932\n",
      "Epoch 18/50\n",
      "60000/60000 [==============================] - 109s 2ms/step - loss: 0.0455 - acc: 0.9874 - val_loss: 0.0236 - val_acc: 0.9930\n",
      "Epoch 19/50\n",
      "60000/60000 [==============================] - 110s 2ms/step - loss: 0.0417 - acc: 0.9887 - val_loss: 0.0230 - val_acc: 0.9925\n",
      "Epoch 20/50\n",
      "60000/60000 [==============================] - 109s 2ms/step - loss: 0.0409 - acc: 0.9880 - val_loss: 0.0205 - val_acc: 0.9940\n",
      "Epoch 21/50\n",
      "60000/60000 [==============================] - 110s 2ms/step - loss: 0.0381 - acc: 0.9895 - val_loss: 0.0215 - val_acc: 0.9938\n",
      "Epoch 22/50\n",
      "60000/60000 [==============================] - 110s 2ms/step - loss: 0.0354 - acc: 0.9899 - val_loss: 0.0202 - val_acc: 0.9941\n",
      "Epoch 23/50\n",
      "60000/60000 [==============================] - 109s 2ms/step - loss: 0.0327 - acc: 0.9909 - val_loss: 0.0241 - val_acc: 0.9937\n",
      "Epoch 24/50\n",
      "60000/60000 [==============================] - 110s 2ms/step - loss: 0.0346 - acc: 0.9907 - val_loss: 0.0217 - val_acc: 0.9933\n",
      "Epoch 25/50\n",
      "60000/60000 [==============================] - 109s 2ms/step - loss: 0.0310 - acc: 0.9913 - val_loss: 0.0212 - val_acc: 0.9941\n",
      "Epoch 26/50\n",
      "60000/60000 [==============================] - 110s 2ms/step - loss: 0.0333 - acc: 0.9905 - val_loss: 0.0220 - val_acc: 0.9933\n",
      "Epoch 27/50\n",
      "60000/60000 [==============================] - 111s 2ms/step - loss: 0.0286 - acc: 0.9920 - val_loss: 0.0200 - val_acc: 0.9947\n",
      "Epoch 28/50\n",
      "60000/60000 [==============================] - 109s 2ms/step - loss: 0.0271 - acc: 0.9917 - val_loss: 0.0209 - val_acc: 0.9939\n",
      "Epoch 29/50\n",
      "60000/60000 [==============================] - 110s 2ms/step - loss: 0.0289 - acc: 0.9919 - val_loss: 0.0196 - val_acc: 0.9945\n",
      "Epoch 30/50\n",
      "60000/60000 [==============================] - 109s 2ms/step - loss: 0.0260 - acc: 0.9925 - val_loss: 0.0194 - val_acc: 0.9951\n",
      "Epoch 31/50\n",
      "60000/60000 [==============================] - 110s 2ms/step - loss: 0.0244 - acc: 0.9928 - val_loss: 0.0226 - val_acc: 0.9943\n",
      "Epoch 32/50\n",
      "60000/60000 [==============================] - 110s 2ms/step - loss: 0.0275 - acc: 0.9919 - val_loss: 0.0218 - val_acc: 0.9941\n",
      "Epoch 33/50\n",
      "60000/60000 [==============================] - 109s 2ms/step - loss: 0.0237 - acc: 0.9929 - val_loss: 0.0205 - val_acc: 0.9936\n",
      "Epoch 34/50\n",
      "60000/60000 [==============================] - 110s 2ms/step - loss: 0.0226 - acc: 0.9935 - val_loss: 0.0182 - val_acc: 0.9946\n",
      "Epoch 35/50\n",
      "60000/60000 [==============================] - 110s 2ms/step - loss: 0.0239 - acc: 0.9929 - val_loss: 0.0224 - val_acc: 0.9943\n",
      "Epoch 36/50\n",
      "60000/60000 [==============================] - 109s 2ms/step - loss: 0.0218 - acc: 0.9939 - val_loss: 0.0209 - val_acc: 0.9943\n",
      "Epoch 37/50\n",
      "60000/60000 [==============================] - 111s 2ms/step - loss: 0.0221 - acc: 0.9938 - val_loss: 0.0199 - val_acc: 0.9937\n",
      "Epoch 38/50\n",
      "60000/60000 [==============================] - 109s 2ms/step - loss: 0.0210 - acc: 0.9941 - val_loss: 0.0198 - val_acc: 0.9949\n",
      "Epoch 39/50\n",
      "60000/60000 [==============================] - 110s 2ms/step - loss: 0.0204 - acc: 0.9939 - val_loss: 0.0197 - val_acc: 0.9944\n",
      "Epoch 40/50\n",
      "60000/60000 [==============================] - 110s 2ms/step - loss: 0.0197 - acc: 0.9943 - val_loss: 0.0196 - val_acc: 0.9956\n",
      "Epoch 41/50\n",
      "60000/60000 [==============================] - 109s 2ms/step - loss: 0.0195 - acc: 0.9945 - val_loss: 0.0214 - val_acc: 0.9939\n",
      "Epoch 42/50\n",
      "60000/60000 [==============================] - 110s 2ms/step - loss: 0.0213 - acc: 0.9938 - val_loss: 0.0222 - val_acc: 0.9942\n",
      "Epoch 43/50\n",
      "60000/60000 [==============================] - 109s 2ms/step - loss: 0.0204 - acc: 0.9942 - val_loss: 0.0184 - val_acc: 0.9953\n",
      "Epoch 44/50\n",
      "60000/60000 [==============================] - 110s 2ms/step - loss: 0.0167 - acc: 0.9950 - val_loss: 0.0188 - val_acc: 0.9948\n",
      "Epoch 45/50\n",
      "60000/60000 [==============================] - 110s 2ms/step - loss: 0.0173 - acc: 0.9952 - val_loss: 0.0245 - val_acc: 0.9942\n",
      "Epoch 46/50\n",
      "60000/60000 [==============================] - 109s 2ms/step - loss: 0.0165 - acc: 0.9951 - val_loss: 0.0204 - val_acc: 0.9955\n",
      "Epoch 47/50\n",
      "60000/60000 [==============================] - 110s 2ms/step - loss: 0.0148 - acc: 0.9958 - val_loss: 0.0222 - val_acc: 0.9942\n",
      "Epoch 48/50\n",
      "60000/60000 [==============================] - 109s 2ms/step - loss: 0.0181 - acc: 0.9947 - val_loss: 0.0227 - val_acc: 0.9948\n",
      "Epoch 49/50\n",
      "60000/60000 [==============================] - 110s 2ms/step - loss: 0.0168 - acc: 0.9953 - val_loss: 0.0256 - val_acc: 0.9940\n",
      "Epoch 50/50\n",
      "60000/60000 [==============================] - 110s 2ms/step - loss: 0.0154 - acc: 0.9958 - val_loss: 0.0248 - val_acc: 0.9939\n"
     ]
    }
   ],
   "source": [
    "history = output_model.fit(Input_train, Objetive_train, batch_size=batch_size, epochs=epochs, verbose=VERBOSE, \n",
    "                       validation_data=(Input_test, Objetive_test))"
   ]
  },
  {
   "cell_type": "code",
   "execution_count": 11,
   "metadata": {},
   "outputs": [
    {
     "name": "stdout",
     "output_type": "stream",
     "text": [
      "10000/10000 [==============================] - 8s 804us/step\n"
     ]
    },
    {
     "data": {
      "text/plain": [
       "[0.024785183375833048, 0.9939]"
      ]
     },
     "execution_count": 11,
     "metadata": {},
     "output_type": "execute_result"
    }
   ],
   "source": [
    "output_model.evaluate(Input_test, Objetive_test)"
   ]
  },
  {
   "cell_type": "code",
   "execution_count": 12,
   "metadata": {},
   "outputs": [
    {
     "data": {
      "image/png": "[encoded data removed]",
      "text/plain": [
       "<Figure size 576x432 with 1 Axes>"
      ]
     },
     "metadata": {},
     "output_type": "display_data"
    },
    {
     "data": {
      "image/png": "[encoded data removed]",
      "text/plain": [
       "<Figure size 576x432 with 1 Axes>"
      ]
     },
     "metadata": {},
     "output_type": "display_data"
    }
   ],
   "source": [
    "if PLOT:\n",
    "    ## Plots\n",
    "    # Loss Curves\n",
    "    plt.figure(figsize=[8,6])\n",
    "    plt.plot(history.history['loss'],'.r')\n",
    "    plt.plot(history.history['val_loss'],'.b')\n",
    "    plt.plot(history.history['loss'],'--y')\n",
    "    plt.plot(history.history['val_loss'],'--g')\n",
    "    plt.legend(['Training loss', 'Validation Loss'],fontsize=18)\n",
    "    plt.xlabel('Epochs ',fontsize=16)\n",
    "    plt.ylabel('Loss',fontsize=16)\n",
    "    plt.title('Loss Curves',fontsize=16)\n",
    "    plt.show()\n",
    "\n",
    "    # Accuracy Curves\n",
    "    plt.figure(figsize=[8,6])\n",
    "    plt.plot(history.history['acc'],'.r')\n",
    "    plt.plot(history.history['val_acc'],'.b')\n",
    "    plt.plot(history.history['acc'],'--y')\n",
    "    plt.plot(history.history['val_acc'],'--g')\n",
    "    plt.legend(['Training Accuracy', 'Validation Accuracy'],fontsize=18)\n",
    "    plt.xlabel('Epochs ',fontsize=16)\n",
    "    plt.ylabel('Accuracy',fontsize=16)\n",
    "    plt.title('Accuracy Curves',fontsize=16)\n",
    "    plt.show()"
   ]
  },
  {
   "cell_type": "code",
   "execution_count": 13,
   "metadata": {},
   "outputs": [],
   "source": [
    "output_model.save(filepath=\"./mnist_model\", include_optimizer=1)"
   ]
  },
  {
   "cell_type": "code",
   "execution_count": null,
   "metadata": {},
   "outputs": [],
   "source": []
  },
  {
   "cell_type": "code",
   "execution_count": null,
   "metadata": {},
   "outputs": [],
   "source": []
  },
  {
   "cell_type": "code",
   "execution_count": null,
   "metadata": {},
   "outputs": [],
   "source": []
  }
 ],
 "metadata": {
  "kernelspec": {
   "display_name": "Environment (conda_tensorflow_p36)",
   "language": "python",
   "name": "conda_tensorflow_p36"
  },
  "language_info": {
   "codemirror_mode": {
    "name": "ipython",
    "version": 3
   },
   "file_extension": ".py",
   "mimetype": "text/x-python",
   "name": "python",
   "nbconvert_exporter": "python",
   "pygments_lexer": "ipython3",
   "version": "3.6.5"
  }
 },
 "nbformat": 4,
 "nbformat_minor": 2
}
