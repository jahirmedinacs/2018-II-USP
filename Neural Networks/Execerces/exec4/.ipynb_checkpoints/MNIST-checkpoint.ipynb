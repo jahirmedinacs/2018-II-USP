{
 "cells": [
  {
   "cell_type": "code",
   "execution_count": 1,
   "metadata": {},
   "outputs": [
    {
     "name": "stderr",
     "output_type": "stream",
     "text": [
      "Using TensorFlow backend.\n"
     ]
    }
   ],
   "source": [
    "from matplotlib import pyplot as plt\n",
    "import numpy as np\n",
    "import pandas as pd\n",
    "\n",
    "from copy import copy as copy\n",
    "\n",
    "import os\n",
    "import sys\n",
    "\n",
    "import pprint\n",
    "\n",
    "from keras.datasets import mnist"
   ]
  },
  {
   "cell_type": "code",
   "execution_count": 2,
   "metadata": {},
   "outputs": [],
   "source": [
    "PLOT = True\n",
    "NUM_OF_CLASS = 10\n",
    "VERBOSE = True"
   ]
  },
  {
   "cell_type": "code",
   "execution_count": 3,
   "metadata": {},
   "outputs": [],
   "source": [
    "from keras.models import Sequential\n",
    "from keras.layers import Dense, Conv2D, MaxPooling2D, Dropout, Flatten\n",
    "\n",
    "import keras.utils"
   ]
  },
  {
   "cell_type": "code",
   "execution_count": null,
   "metadata": {},
   "outputs": [],
   "source": []
  },
  {
   "cell_type": "code",
   "execution_count": 4,
   "metadata": {},
   "outputs": [
    {
     "name": "stdout",
     "output_type": "stream",
     "text": [
      "Input_train shape: (60000, 28, 28, 1)\n",
      "60000 train samples\n",
      "10000 test samples\n"
     ]
    }
   ],
   "source": [
    "# The data, split between train and test sets:\n",
    "(Input_train, Objetive_train), (Input_test, Objetive_test) = mnist.load_data()\n",
    "\n",
    "Input_train = Input_train.reshape(tuple(list(Input_train.shape) + [1]))\n",
    "Input_test = Input_test.reshape(tuple(list(Input_test.shape) + [1]))\n",
    "\n",
    "print('Input_train shape:', Input_train.shape)\n",
    "print(Input_train.shape[0], 'train samples')\n",
    "print(Input_test.shape[0], 'test samples')"
   ]
  },
  {
   "cell_type": "code",
   "execution_count": 5,
   "metadata": {},
   "outputs": [],
   "source": [
    "# Convert class vectors to binary class matrices.\n",
    "Objetive_train = keras.utils.to_categorical(Objetive_train, NUM_OF_CLASS)\n",
    "Objetive_test = keras.utils.to_categorical(Objetive_test, NUM_OF_CLASS)"
   ]
  },
  {
   "cell_type": "code",
   "execution_count": 6,
   "metadata": {},
   "outputs": [],
   "source": [
    "#Architecture\n",
    "def createModel(input_shape, nClasses):\n",
    "    model = Sequential()\n",
    "    \n",
    "    model.add(Conv2D(25, (2, 2), padding='same', activation='relu', input_shape=input_shape))\n",
    "    model.add(Conv2D(20, (2, 2), activation='relu'))\n",
    "    model.add(MaxPooling2D(pool_size=(2, 2)))\n",
    "    model.add(Dropout(0.1))\n",
    "    \n",
    "#     model.add(Conv2D(48, (2, 2), padding='same', activation='selu'))\n",
    "#     model.add(Conv2D(48, (4, 4), activation='relu'))\n",
    "#     model.add(MaxPooling2D(pool_size=(2, 2)))\n",
    "#     model.add(Dropout(0.3))\n",
    "    \n",
    "#     model.add(Conv2D(64, (3, 3), padding='same', activation='relu'))\n",
    "#     model.add(Conv2D(64, (3, 3), activation='selu'))\n",
    "#     model.add(MaxPooling2D(pool_size=(2, 2)))\n",
    "#     model.add(Dropout(0.3))\n",
    " \n",
    "    model.add(Flatten())\n",
    "#     model.add(Dense(500, activation='selu'))\n",
    "#     model.add(Dropout(0.8))\n",
    "#     model.add(Dense(300, activation='relu'))\n",
    "#     model.add(Dropout(0.4))\n",
    "    model.add(Dense(nClasses, activation='softmax'))\n",
    "     \n",
    "    return model"
   ]
  },
  {
   "cell_type": "code",
   "execution_count": null,
   "metadata": {},
   "outputs": [],
   "source": []
  },
  {
   "cell_type": "code",
   "execution_count": 7,
   "metadata": {},
   "outputs": [],
   "source": [
    "## Train Parameters\n",
    "\n",
    "epochs = 50\n",
    "batch_size = 1000\n",
    "\n",
    "###\n",
    "\n",
    "output_model = createModel(Input_train.shape[1:], NUM_OF_CLASS)\n",
    "output_model.compile(optimizer='adadelta', loss='categorical_crossentropy', metrics=['accuracy'])"
   ]
  },
  {
   "cell_type": "code",
   "execution_count": 8,
   "metadata": {},
   "outputs": [
    {
     "name": "stdout",
     "output_type": "stream",
     "text": [
      "_________________________________________________________________\n",
      "Layer (type)                 Output Shape              Param #   \n",
      "=================================================================\n",
      "conv2d_1 (Conv2D)            (None, 28, 28, 25)        125       \n",
      "_________________________________________________________________\n",
      "conv2d_2 (Conv2D)            (None, 27, 27, 20)        2020      \n",
      "_________________________________________________________________\n",
      "max_pooling2d_1 (MaxPooling2 (None, 13, 13, 20)        0         \n",
      "_________________________________________________________________\n",
      "dropout_1 (Dropout)          (None, 13, 13, 20)        0         \n",
      "_________________________________________________________________\n",
      "flatten_1 (Flatten)          (None, 3380)              0         \n",
      "_________________________________________________________________\n",
      "dense_1 (Dense)              (None, 10)                33810     \n",
      "=================================================================\n",
      "Total params: 35,955\n",
      "Trainable params: 35,955\n",
      "Non-trainable params: 0\n",
      "_________________________________________________________________\n"
     ]
    }
   ],
   "source": [
    "output_model.summary()"
   ]
  },
  {
   "cell_type": "code",
   "execution_count": 9,
   "metadata": {
    "scrolled": false
   },
   "outputs": [
    {
     "name": "stdout",
     "output_type": "stream",
     "text": [
      "Train on 60000 samples, validate on 10000 samples\n",
      "Epoch 1/50\n",
      "60000/60000 [==============================] - 83s 1ms/step - loss: 5.0280 - acc: 0.6617 - val_loss: 3.8558 - val_acc: 0.7462\n",
      "Epoch 2/50\n",
      "60000/60000 [==============================] - 116s 2ms/step - loss: 2.6304 - acc: 0.8250 - val_loss: 2.2370 - val_acc: 0.8538\n",
      "Epoch 3/50\n",
      "60000/60000 [==============================] - 164s 3ms/step - loss: 2.3021 - acc: 0.8471 - val_loss: 2.0795 - val_acc: 0.8646\n",
      "Epoch 4/50\n",
      "60000/60000 [==============================] - 38s 641us/step - loss: 2.0985 - acc: 0.8624 - val_loss: 1.9860 - val_acc: 0.8703\n",
      "Epoch 5/50\n",
      "60000/60000 [==============================] - 174s 3ms/step - loss: 2.0169 - acc: 0.8677 - val_loss: 1.9655 - val_acc: 0.8720\n",
      "Epoch 6/50\n",
      "60000/60000 [==============================] - 102s 2ms/step - loss: 1.9518 - acc: 0.8720 - val_loss: 1.8756 - val_acc: 0.8782\n",
      "Epoch 7/50\n",
      "60000/60000 [==============================] - 98s 2ms/step - loss: 1.8745 - acc: 0.8770 - val_loss: 1.8450 - val_acc: 0.8798\n",
      "Epoch 8/50\n",
      "60000/60000 [==============================] - 177s 3ms/step - loss: 1.8662 - acc: 0.8782 - val_loss: 1.8833 - val_acc: 0.8776\n",
      "Epoch 9/50\n",
      "60000/60000 [==============================] - 39s 646us/step - loss: 1.8411 - acc: 0.8800 - val_loss: 1.8166 - val_acc: 0.8811\n",
      "Epoch 10/50\n",
      "60000/60000 [==============================] - 157s 3ms/step - loss: 1.8211 - acc: 0.8814 - val_loss: 1.8148 - val_acc: 0.8832\n",
      "Epoch 11/50\n",
      "60000/60000 [==============================] - 124s 2ms/step - loss: 1.8062 - acc: 0.8827 - val_loss: 1.8247 - val_acc: 0.8813\n",
      "Epoch 12/50\n",
      "60000/60000 [==============================] - 73s 1ms/step - loss: 1.7974 - acc: 0.8837 - val_loss: 1.8176 - val_acc: 0.8826\n",
      "Epoch 13/50\n",
      "60000/60000 [==============================] - 178s 3ms/step - loss: 1.7868 - acc: 0.8849 - val_loss: 1.8106 - val_acc: 0.8829\n",
      "Epoch 14/50\n",
      "60000/60000 [==============================] - 63s 1ms/step - loss: 1.7734 - acc: 0.8857 - val_loss: 1.8178 - val_acc: 0.8823\n",
      "Epoch 15/50\n",
      "60000/60000 [==============================] - 133s 2ms/step - loss: 1.7667 - acc: 0.8863 - val_loss: 1.8177 - val_acc: 0.8827\n",
      "Epoch 16/50\n",
      "60000/60000 [==============================] - 149s 2ms/step - loss: 1.7550 - acc: 0.8870 - val_loss: 1.7767 - val_acc: 0.8855\n",
      "Epoch 17/50\n",
      "60000/60000 [==============================] - 47s 785us/step - loss: 1.7432 - acc: 0.8877 - val_loss: 1.7929 - val_acc: 0.8843\n",
      "Epoch 18/50\n",
      "60000/60000 [==============================] - 177s 3ms/step - loss: 1.7375 - acc: 0.8883 - val_loss: 1.7646 - val_acc: 0.8869\n",
      "Epoch 19/50\n",
      "60000/60000 [==============================] - 88s 1ms/step - loss: 1.7303 - acc: 0.8894 - val_loss: 1.8117 - val_acc: 0.8836\n",
      "Epoch 20/50\n",
      "60000/60000 [==============================] - 107s 2ms/step - loss: 1.7398 - acc: 0.8881 - val_loss: 1.8418 - val_acc: 0.8808\n",
      "Epoch 21/50\n",
      "60000/60000 [==============================] - 176s 3ms/step - loss: 1.7333 - acc: 0.8890 - val_loss: 1.8020 - val_acc: 0.8853\n",
      "Epoch 22/50\n",
      "60000/60000 [==============================] - 34s 571us/step - loss: 1.7264 - acc: 0.8899 - val_loss: 1.7810 - val_acc: 0.8854\n",
      "Epoch 23/50\n",
      "60000/60000 [==============================] - 172s 3ms/step - loss: 1.7205 - acc: 0.8897 - val_loss: 1.8066 - val_acc: 0.8852\n",
      "Epoch 24/50\n",
      "60000/60000 [==============================] - 107s 2ms/step - loss: 1.7213 - acc: 0.8905 - val_loss: 1.7980 - val_acc: 0.8846\n",
      "Epoch 25/50\n",
      "60000/60000 [==============================] - 88s 1ms/step - loss: 1.7034 - acc: 0.8917 - val_loss: 1.8223 - val_acc: 0.8834\n",
      "Epoch 26/50\n",
      "60000/60000 [==============================] - 176s 3ms/step - loss: 1.6969 - acc: 0.8921 - val_loss: 1.7765 - val_acc: 0.8864\n",
      "Epoch 27/50\n",
      "60000/60000 [==============================] - 48s 796us/step - loss: 1.6926 - acc: 0.8925 - val_loss: 1.7810 - val_acc: 0.8859\n",
      "Epoch 28/50\n",
      "60000/60000 [==============================] - 147s 2ms/step - loss: 1.6917 - acc: 0.8924 - val_loss: 1.7883 - val_acc: 0.8849\n",
      "Epoch 29/50\n",
      "60000/60000 [==============================] - 135s 2ms/step - loss: 1.6930 - acc: 0.8924 - val_loss: 1.7817 - val_acc: 0.8863\n",
      "Epoch 30/50\n",
      "60000/60000 [==============================] - 59s 990us/step - loss: 1.6910 - acc: 0.8925 - val_loss: 1.7921 - val_acc: 0.8848\n",
      "Epoch 31/50\n",
      "60000/60000 [==============================] - 177s 3ms/step - loss: 1.6872 - acc: 0.8927 - val_loss: 1.7888 - val_acc: 0.8854\n",
      "Epoch 32/50\n",
      "60000/60000 [==============================] - 77s 1ms/step - loss: 1.6837 - acc: 0.8932 - val_loss: 1.7715 - val_acc: 0.8866\n",
      "Epoch 33/50\n",
      "60000/60000 [==============================] - 117s 2ms/step - loss: 1.6774 - acc: 0.8940 - val_loss: 1.7948 - val_acc: 0.8855\n",
      "Epoch 34/50\n",
      "60000/60000 [==============================] - 163s 3ms/step - loss: 1.6840 - acc: 0.8933 - val_loss: 1.8093 - val_acc: 0.8843\n",
      "Epoch 35/50\n",
      "60000/60000 [==============================] - 37s 615us/step - loss: 1.6758 - acc: 0.8934 - val_loss: 1.7625 - val_acc: 0.8879\n",
      "Epoch 36/50\n",
      "60000/60000 [==============================] - 172s 3ms/step - loss: 1.6776 - acc: 0.8938 - val_loss: 1.7597 - val_acc: 0.8885\n",
      "Epoch 37/50\n",
      "60000/60000 [==============================] - 104s 2ms/step - loss: 1.6831 - acc: 0.8935 - val_loss: 1.7685 - val_acc: 0.8876\n",
      "Epoch 38/50\n",
      "60000/60000 [==============================] - 93s 2ms/step - loss: 1.6693 - acc: 0.8945 - val_loss: 1.7684 - val_acc: 0.8870\n",
      "Epoch 39/50\n",
      "60000/60000 [==============================] - 175s 3ms/step - loss: 1.6758 - acc: 0.8940 - val_loss: 1.7764 - val_acc: 0.8867\n",
      "Epoch 40/50\n",
      "60000/60000 [==============================] - 45s 746us/step - loss: 1.6750 - acc: 0.8940 - val_loss: 1.7747 - val_acc: 0.8867\n",
      "Epoch 41/50\n",
      "60000/60000 [==============================] - 152s 3ms/step - loss: 1.6660 - acc: 0.8949 - val_loss: 1.7818 - val_acc: 0.8866\n",
      "Epoch 42/50\n",
      "60000/60000 [==============================] - 129s 2ms/step - loss: 1.6726 - acc: 0.8941 - val_loss: 1.8124 - val_acc: 0.8839\n",
      "Epoch 43/50\n",
      "60000/60000 [==============================] - 66s 1ms/step - loss: 1.6663 - acc: 0.8949 - val_loss: 1.7692 - val_acc: 0.8866\n",
      "Epoch 44/50\n",
      "60000/60000 [==============================] - 177s 3ms/step - loss: 1.6705 - acc: 0.8944 - val_loss: 1.7690 - val_acc: 0.8878\n",
      "Epoch 45/50\n",
      "60000/60000 [==============================] - 71s 1ms/step - loss: 1.6620 - acc: 0.8954 - val_loss: 1.7597 - val_acc: 0.8874\n",
      "Epoch 46/50\n",
      "60000/60000 [==============================] - 123s 2ms/step - loss: 1.6632 - acc: 0.8953 - val_loss: 1.7932 - val_acc: 0.8860\n",
      "Epoch 47/50\n",
      "60000/60000 [==============================] - 159s 3ms/step - loss: 1.6577 - acc: 0.8957 - val_loss: 1.7759 - val_acc: 0.8874\n",
      "Epoch 48/50\n",
      "60000/60000 [==============================] - 36s 593us/step - loss: 1.6595 - acc: 0.8953 - val_loss: 1.7926 - val_acc: 0.8859\n",
      "Epoch 49/50\n",
      "60000/60000 [==============================] - 176s 3ms/step - loss: 1.6599 - acc: 0.8954 - val_loss: 1.7833 - val_acc: 0.8869\n",
      "Epoch 50/50\n",
      "60000/60000 [==============================] - 100s 2ms/step - loss: 1.6616 - acc: 0.8953 - val_loss: 1.7784 - val_acc: 0.8871\n"
     ]
    }
   ],
   "source": [
    "history = output_model.fit(Input_train, Objetive_train, batch_size=batch_size, epochs=epochs, verbose=VERBOSE, \n",
    "                       validation_data=(Input_test, Objetive_test))"
   ]
  },
  {
   "cell_type": "code",
   "execution_count": 10,
   "metadata": {},
   "outputs": [
    {
     "name": "stdout",
     "output_type": "stream",
     "text": [
      "10000/10000 [==============================] - 3s 255us/step\n"
     ]
    },
    {
     "data": {
      "text/plain": [
       "[1.7784106666578912, 0.8871]"
      ]
     },
     "execution_count": 10,
     "metadata": {},
     "output_type": "execute_result"
    }
   ],
   "source": [
    "output_model.evaluate(Input_test, Objetive_test)"
   ]
  },
  {
   "cell_type": "code",
   "execution_count": 11,
   "metadata": {},
   "outputs": [
    {
     "data": {
      "image/png": "[encoded data removed]",
      "text/plain": [
       "<Figure size 576x432 with 1 Axes>"
      ]
     },
     "metadata": {},
     "output_type": "display_data"
    },
    {
     "data": {
      "image/png": "[encoded data removed]",
      "text/plain": [
       "<Figure size 576x432 with 1 Axes>"
      ]
     },
     "metadata": {},
     "output_type": "display_data"
    }
   ],
   "source": [
    "if PLOT:\n",
    "    ## Plots\n",
    "    # Loss Curves\n",
    "    plt.figure(figsize=[8,6])\n",
    "    plt.plot(history.history['loss'],'.r')\n",
    "    plt.plot(history.history['val_loss'],'.b')\n",
    "    plt.plot(history.history['loss'],'--y')\n",
    "    plt.plot(history.history['val_loss'],'--g')\n",
    "    plt.legend(['Training loss', 'Validation Loss'],fontsize=18)\n",
    "    plt.xlabel('Epochs ',fontsize=16)\n",
    "    plt.ylabel('Loss',fontsize=16)\n",
    "    plt.title('Loss Curves',fontsize=16)\n",
    "    plt.show()\n",
    "\n",
    "    # Accuracy Curves\n",
    "    plt.figure(figsize=[8,6])\n",
    "    plt.plot(history.history['acc'],'.r')\n",
    "    plt.plot(history.history['val_acc'],'.b')\n",
    "    plt.plot(history.history['acc'],'--y')\n",
    "    plt.plot(history.history['val_acc'],'--g')\n",
    "    plt.legend(['Training Accuracy', 'Validation Accuracy'],fontsize=18)\n",
    "    plt.xlabel('Epochs ',fontsize=16)\n",
    "    plt.ylabel('Accuracy',fontsize=16)\n",
    "    plt.title('Accuracy Curves',fontsize=16)\n",
    "    plt.show()"
   ]
  },
  {
   "cell_type": "code",
   "execution_count": 12,
   "metadata": {},
   "outputs": [],
   "source": [
    "output_model.save(filepath=\"./mnist_model_v3\", include_optimizer=1)"
   ]
  },
  {
   "cell_type": "code",
   "execution_count": null,
   "metadata": {},
   "outputs": [],
   "source": []
  },
  {
   "cell_type": "code",
   "execution_count": null,
   "metadata": {},
   "outputs": [],
   "source": []
  },
  {
   "cell_type": "code",
   "execution_count": null,
   "metadata": {},
   "outputs": [],
   "source": []
  }
 ],
 "metadata": {
  "kernelspec": {
   "display_name": "Environment (conda_tensorflow_p36)",
   "language": "python",
   "name": "conda_tensorflow_p36"
  },
  "language_info": {
   "codemirror_mode": {
    "name": "ipython",
    "version": 3
   },
   "file_extension": ".py",
   "mimetype": "text/x-python",
   "name": "python",
   "nbconvert_exporter": "python",
   "pygments_lexer": "ipython3",
   "version": "3.6.5"
  }
 },
 "nbformat": 4,
 "nbformat_minor": 2
}
