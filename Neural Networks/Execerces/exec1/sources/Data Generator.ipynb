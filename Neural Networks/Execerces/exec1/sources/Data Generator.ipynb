{
 "cells": [
  {
   "cell_type": "markdown",
   "metadata": {},
   "source": [
    "# Generating Base Inputs"
   ]
  },
  {
   "cell_type": "code",
   "execution_count": 1,
   "metadata": {
    "hideCode": false,
    "hidePrompt": false
   },
   "outputs": [
    {
     "name": "stdout",
     "output_type": "stream",
     "text": [
      "Pandas Version 0.22.0\n",
      "Numpy Version 1.14.3\n",
      "Plotly Version 2.7.0\n"
     ]
    }
   ],
   "source": [
    "import pandas as pd\n",
    "print(\"Pandas Version {:s}\".format(pd.__version__))\n",
    "\n",
    "import numpy as np\n",
    "print(\"Numpy Version {:s}\".format(np.__version__))\n",
    "\n",
    "import plotly as ptl\n",
    "ptl.tools.set_credentials_file(username='jahirmedinacs', api_key='VSGMqFVozfMEdKuQH9Ge')\n",
    "print(\"Plotly Version {:s}\".format(ptl.__version__))\n",
    "\n",
    "import matplotlib as mtplt\n",
    "import matplotlib.pyplot as plt"
   ]
  },
  {
   "cell_type": "code",
   "execution_count": 2,
   "metadata": {},
   "outputs": [],
   "source": [
    "#A_i : Letter A inverted\n",
    "A_i = np.ndarray(shape=(5,5), dtype=int,\n",
    "                 buffer=np.matrix(\n",
    "                    [\n",
    "                        [+1, -1, -1, -1, +1],\n",
    "                        [+1, -1, -1, -1, +1],\n",
    "                        [-1, +1, +1, +1, -1],\n",
    "                        [-1, +1, -1, +1, -1],\n",
    "                        [-1, -1, +1, -1, -1]\n",
    "                     ])\n",
    "                )\n",
    "\n",
    "#A_n : Letter A normal\n",
    "A_n = np.rot90(A_i, 2)\n"
   ]
  },
  {
   "cell_type": "code",
   "execution_count": 3,
   "metadata": {
    "hideCode": false,
    "hidePrompt": false
   },
   "outputs": [],
   "source": [
    "def to_bin(data_input):\n",
    "    alt_data_input = (data_input >= 0) \n",
    "    return alt_data_input.astype(int)"
   ]
  },
  {
   "cell_type": "code",
   "execution_count": 4,
   "metadata": {
    "hideCode": false,
    "hidePrompt": false
   },
   "outputs": [
    {
     "data": {
      "image/png": "[encoded data removed]",
      "text/plain": [
       "<Figure size 432x288 with 2 Axes>"
      ]
     },
     "metadata": {},
     "output_type": "display_data"
    }
   ],
   "source": [
    "plt.subplot(1, 2, 1)\n",
    "plt.imshow(to_bin(A_n))\n",
    "\n",
    "plt.subplot(1, 2, 2)\n",
    "plt.imshow(to_bin(A_i))\n",
    "\n",
    "plt.show()"
   ]
  },
  {
   "cell_type": "markdown",
   "metadata": {},
   "source": [
    "# Sampler Function"
   ]
  },
  {
   "cell_type": "code",
   "execution_count": 5,
   "metadata": {
    "hidePrompt": false
   },
   "outputs": [],
   "source": [
    "import copy\n",
    "\n",
    "def noise_inductor(data_input, ratio=1, verbose=False):\n",
    "    rand_x = np.random.randint(data_input.shape[0])\n",
    "    rand_y = np.random.randint(data_input.shape[1])\n",
    "    \n",
    "    if verbose:\n",
    "        print(\"[{:d}, {:d}]\".format(rand_x, rand_y))\n",
    "        \n",
    "    output = copy.copy(data_input)\n",
    "    if output[rand_x, rand_y] == +1:\n",
    "        output[rand_x, rand_y] = -1\n",
    "    else:\n",
    "        output[rand_x, rand_y] = +1\n",
    "    \n",
    "    return output"
   ]
  },
  {
   "cell_type": "code",
   "execution_count": 6,
   "metadata": {},
   "outputs": [],
   "source": [
    "def sampler(data_template, samples=10):\n",
    "    if data_template.size < samples:\n",
    "        return None\n",
    "    else:\n",
    "        pass\n",
    "    \n",
    "    output = []\n",
    "    for _ in range(samples):\n",
    "        yield noise_inductor(data_template)\n",
    "        output.append(noise_inductor(data_template))\n",
    "    \n",
    "    return output"
   ]
  },
  {
   "cell_type": "code",
   "execution_count": 7,
   "metadata": {},
   "outputs": [],
   "source": [
    "data_container = []"
   ]
  },
  {
   "cell_type": "code",
   "execution_count": 8,
   "metadata": {
    "hideCode": false,
    "hidePrompt": false
   },
   "outputs": [],
   "source": [
    "def sampler_visual(dummy, label, def_cols=4, full_samples=10, output=None):\n",
    "    data_container = []\n",
    "    samples= full_samples - 1\n",
    "    def_rows = int(np.ceil(full_samples / def_cols))\n",
    "\n",
    "    index = 0\n",
    "    for ii in sampler(dummy, samples):\n",
    "        # print(ii, \"\\n\\n\")\n",
    "        data_container.append([ii, label])\n",
    "        #print(index // def_cols + 1, index%def_cols + 1)\n",
    "        plt.subplot(def_rows, def_cols, index + 1)\n",
    "        plt.imshow(to_bin(ii))\n",
    "        index += 1\n",
    "        \n",
    "    data_container.append([dummy, label])\n",
    "    output += data_container\n",
    "    \n",
    "    plt.subplot(def_rows, def_cols, def_rows*def_cols)    \n",
    "    plt.show"
   ]
  },
  {
   "cell_type": "markdown",
   "metadata": {},
   "source": [
    "# Samples Regular A"
   ]
  },
  {
   "cell_type": "code",
   "execution_count": 9,
   "metadata": {
    "hideOutput": false
   },
   "outputs": [
    {
     "data": {
      "image/png": "[encoded data removed]",
      "text/plain": [
       "<Figure size 432x288 with 25 Axes>"
      ]
     },
     "metadata": {},
     "output_type": "display_data"
    }
   ],
   "source": [
    "sampler_visual(dummy=A_n, label=1, def_cols=6, full_samples=25, output=data_container)"
   ]
  },
  {
   "cell_type": "markdown",
   "metadata": {},
   "source": [
    "# Samples Inverted A"
   ]
  },
  {
   "cell_type": "code",
   "execution_count": 10,
   "metadata": {
    "hideCode": false,
    "hideOutput": false,
    "hidePrompt": false
   },
   "outputs": [
    {
     "data": {
      "image/png": "[encoded data removed]",
      "text/plain": [
       "<Figure size 432x288 with 25 Axes>"
      ]
     },
     "metadata": {},
     "output_type": "display_data"
    }
   ],
   "source": [
    "sampler_visual(dummy=A_i, label=-1, def_cols=6, full_samples=25, output=data_container)"
   ]
  },
  {
   "cell_type": "markdown",
   "metadata": {},
   "source": [
    "# Saving as DataSet (Pandas)"
   ]
  },
  {
   "cell_type": "code",
   "execution_count": 11,
   "metadata": {},
   "outputs": [],
   "source": [
    "numpy_dataframe = np.zeros((len(data_container), 25 + 1))\n",
    "\n",
    "index = 0\n",
    "for case in data_container:\n",
    "\tcase[0] = np.ndarray.flatten(case[0])\n",
    "\n",
    "\tnumpy_dataframe[index, 1:] = case[0]\n",
    "\tnumpy_dataframe[index, 0] = case[1]\n",
    "\tindex += 1\n",
    "\n",
    "dataframe = pd.DataFrame(numpy_dataframe , dtype=int)\n",
    "# print(dataframe)\n",
    "dataframe.to_csv(\"./dataset.csv\")"
   ]
  }
 ],
 "metadata": {
  "celltoolbar": "Hide code",
  "kernelspec": {
   "display_name": "Environment (conda_python3)",
   "language": "python",
   "name": "conda_python3"
  },
  "language_info": {
   "codemirror_mode": {
    "name": "ipython",
    "version": 3
   },
   "file_extension": ".py",
   "mimetype": "text/x-python",
   "name": "python",
   "nbconvert_exporter": "python",
   "pygments_lexer": "ipython3",
   "version": "3.6.6"
  }
 },
 "nbformat": 4,
 "nbformat_minor": 2
}
